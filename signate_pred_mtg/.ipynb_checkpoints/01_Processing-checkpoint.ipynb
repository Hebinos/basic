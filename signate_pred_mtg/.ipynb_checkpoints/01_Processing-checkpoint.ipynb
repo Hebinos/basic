{
 "cells": [
  {
   "cell_type": "markdown",
   "metadata": {},
   "source": [
    "# 準備"
   ]
  },
  {
   "cell_type": "code",
   "execution_count": null,
   "metadata": {
    "ExecuteTime": {
     "end_time": "2019-04-17T06:43:42.552581Z",
     "start_time": "2019-04-17T06:43:39.824308Z"
    }
   },
   "outputs": [],
   "source": [
    "import numpy as np\n",
    "import pandas as pd\n",
    "import matplotlib.pyplot as plt\n",
    "import datetime as dt\n",
    "import seaborn as sns\n",
    "%matplotlib inline\n",
    "\n",
    "FILE_SAVE = True\n",
    "DEFAULT_COLOR = '#1f77b4'"
   ]
  },
  {
   "cell_type": "code",
   "execution_count": null,
   "metadata": {
    "ExecuteTime": {
     "end_time": "2019-04-17T06:43:44.350761Z",
     "start_time": "2019-04-17T06:43:42.606586Z"
    }
   },
   "outputs": [],
   "source": [
    "train = pd.read_csv('./data/train.tsv', sep='\\t')\n",
    "test = pd.read_csv('./data/test.tsv', sep='\\t')"
   ]
  },
  {
   "cell_type": "markdown",
   "metadata": {},
   "source": [
    "## 実行条件"
   ]
  },
  {
   "cell_type": "code",
   "execution_count": null,
   "metadata": {
    "ExecuteTime": {
     "end_time": "2019-04-17T06:43:44.382764Z",
     "start_time": "2019-04-17T06:43:44.365762Z"
    }
   },
   "outputs": [],
   "source": [
    "# 可視化結果を保存するかどうか\n",
    "FILE_SAVE_FLAG = False"
   ]
  },
  {
   "cell_type": "markdown",
   "metadata": {},
   "source": [
    "## 可視化関数"
   ]
  },
  {
   "cell_type": "markdown",
   "metadata": {},
   "source": [
    "### df_plot_frec"
   ]
  },
  {
   "cell_type": "code",
   "execution_count": null,
   "metadata": {
    "ExecuteTime": {
     "end_time": "2019-04-17T07:04:25.312849Z",
     "start_time": "2019-04-17T07:04:25.295847Z"
    }
   },
   "outputs": [],
   "source": [
    "# 頻度（ヒストグラム＆箱ひげ図）\n",
    "def df_plot_frec(df, cols=None):\n",
    "    i = 1\n",
    "    if cols==None:\n",
    "        cols = df.columns\n",
    "    \n",
    "    for col in cols:\n",
    "        if(df[col].dtype!=np.object):\n",
    "            fig = plt.figure(figsize=(14,3))\n",
    "            ax1 = fig.add_subplot(121)\n",
    "            ax1.set_title(str(i)+ ' : ' +str(col) + ' histgram')\n",
    "            ax2 = fig.add_subplot(122)\n",
    "            ax2.set_title(str(i)+ ' : ' +str(col) + ' box plot')\n",
    "            \n",
    "            if df[col].nunique() > 20:\n",
    "                ax1.hist(df[col], bins=20)\n",
    "                ax2.boxplot(df[col])\n",
    "            else:\n",
    "                ax1.hist(df[col])\n",
    "                ax2.boxplot(df[col])\n",
    "        i+=1"
   ]
  },
  {
   "cell_type": "markdown",
   "metadata": {},
   "source": [
    "### df_plot_frec_bar"
   ]
  },
  {
   "cell_type": "code",
   "execution_count": null,
   "metadata": {
    "ExecuteTime": {
     "end_time": "2019-04-17T06:43:45.128838Z",
     "start_time": "2019-04-17T06:43:44.996825Z"
    }
   },
   "outputs": [],
   "source": [
    "# 頻度棒グラフ（ランキング対応可）\n",
    "def df_plot_frec_bar(df, cols=None, val_rank=False, sort_index=False):\n",
    "    i = 1\n",
    "    if cols==None:\n",
    "        cols = df.columns\n",
    "    \n",
    "    for col in cols:\n",
    "        if(df[col].dtype!=np.object):\n",
    "            \n",
    "            if df[col].nunique()>40:\n",
    "                figsz = (20, 3)\n",
    "            else:\n",
    "                figsz = (7, 3)\n",
    "            fig = plt.figure(figsize=figsz)\n",
    "            ax = fig.add_subplot(111)\n",
    "            ax.set_title(str(i)+ ' : ' +str(col))\n",
    "            \n",
    "            if val_rank == True:\n",
    "                df[col].value_counts().plot(kind='bar', color=DEFAULT_COLOR)\n",
    "            elif sort_index == True:\n",
    "                df[col].value_counts().sort_index().plot(kind='bar', color=DEFAULT_COLOR)\n",
    "            else:\n",
    "                df[col].value_counts(sort=False).plot(kind='bar', color=DEFAULT_COLOR)\n",
    "           \n",
    "        i+=1"
   ]
  },
  {
   "cell_type": "markdown",
   "metadata": {},
   "source": [
    "### df_plot_bar"
   ]
  },
  {
   "cell_type": "code",
   "execution_count": null,
   "metadata": {
    "ExecuteTime": {
     "end_time": "2019-04-17T06:43:45.355861Z",
     "start_time": "2019-04-17T06:43:45.295855Z"
    }
   },
   "outputs": [],
   "source": [
    "# 棒グラフ（ランキング対応可）\n",
    "def df_plot_bar(df, cols=None, val_rank=False, sort_index=False):\n",
    "    i = 1\n",
    "    figsz = (30, 7)\n",
    "    if cols==None:\n",
    "        cols = df.columns\n",
    "    \n",
    "    for col in cols:\n",
    "        if(df[col].dtype!=np.object):\n",
    "\n",
    "            fig = plt.figure(figsize=figsz)\n",
    "            ax = fig.add_subplot(111)\n",
    "            ax.set_title(str(i)+ ' : ' +str(col))\n",
    "            \n",
    "            if val_rank == True:\n",
    "                df[col].sort_values(ascending=False).plot(kind='bar', color=DEFAULT_COLOR)\n",
    "            else:\n",
    "                df[col].plot(kind='bar', color=DEFAULT_COLOR)\n",
    "                \n",
    "        i+=1"
   ]
  },
  {
   "cell_type": "markdown",
   "metadata": {},
   "source": [
    "### df_plot_time"
   ]
  },
  {
   "cell_type": "code",
   "execution_count": null,
   "metadata": {
    "ExecuteTime": {
     "end_time": "2019-04-17T06:43:45.574883Z",
     "start_time": "2019-04-17T06:43:45.425868Z"
    }
   },
   "outputs": [],
   "source": [
    "# 折れ線グラフ（時系列）\n",
    "def df_plot_time(df, timer=None, cols=None):\n",
    "    i = 1\n",
    "    figsz = (10, 4)\n",
    "    if cols==None:\n",
    "        cols = df.columns\n",
    "    \n",
    "    for col in cols:\n",
    "        if(df[col].dtype!=np.object):\n",
    "\n",
    "            fig = plt.figure(figsize=figsz)\n",
    "            ax = fig.add_subplot(111)\n",
    "            ax.set_title(str(i)+ ' : ' +str(col))\n",
    "            \n",
    "            if timer == None:\n",
    "                ax.plot(df.index, df[col])\n",
    "            else:\n",
    "                ax.plot(df[timer], df[col])\n",
    "            \n",
    "        i+=1"
   ]
  },
  {
   "cell_type": "markdown",
   "metadata": {},
   "source": [
    "---"
   ]
  },
  {
   "cell_type": "markdown",
   "metadata": {},
   "source": [
    "# データ確認"
   ]
  },
  {
   "cell_type": "markdown",
   "metadata": {},
   "source": [
    "## train"
   ]
  },
  {
   "cell_type": "code",
   "execution_count": null,
   "metadata": {
    "ExecuteTime": {
     "end_time": "2019-04-17T06:43:46.085934Z",
     "start_time": "2019-04-17T06:43:45.614887Z"
    },
    "scrolled": false
   },
   "outputs": [],
   "source": [
    "# データサイズ\n",
    "train.shape"
   ]
  },
  {
   "cell_type": "code",
   "execution_count": null,
   "metadata": {
    "ExecuteTime": {
     "end_time": "2019-04-17T06:43:46.657991Z",
     "start_time": "2019-04-17T06:43:46.100936Z"
    },
    "scrolled": false
   },
   "outputs": [],
   "source": [
    "# データサンプル\n",
    "train.head()"
   ]
  },
  {
   "cell_type": "code",
   "execution_count": null,
   "metadata": {
    "ExecuteTime": {
     "end_time": "2019-04-17T06:43:47.088034Z",
     "start_time": "2019-04-17T06:43:46.662992Z"
    }
   },
   "outputs": [],
   "source": [
    "# 基本統計量\n",
    "train.describe()"
   ]
  },
  {
   "cell_type": "code",
   "execution_count": null,
   "metadata": {
    "ExecuteTime": {
     "end_time": "2019-04-17T06:43:47.108036Z",
     "start_time": "2019-04-17T06:43:47.093035Z"
    }
   },
   "outputs": [],
   "source": [
    "# 型\n",
    "train.dtypes"
   ]
  },
  {
   "cell_type": "code",
   "execution_count": null,
   "metadata": {
    "ExecuteTime": {
     "end_time": "2019-04-17T06:43:47.487074Z",
     "start_time": "2019-04-17T06:43:47.112037Z"
    }
   },
   "outputs": [],
   "source": [
    "# ユニーク数\n",
    "train.nunique()"
   ]
  },
  {
   "cell_type": "code",
   "execution_count": null,
   "metadata": {
    "ExecuteTime": {
     "end_time": "2019-04-17T06:43:47.575083Z",
     "start_time": "2019-04-17T06:43:47.494075Z"
    },
    "scrolled": false
   },
   "outputs": [],
   "source": [
    "# NA数\n",
    "train.isna().sum()"
   ]
  },
  {
   "cell_type": "code",
   "execution_count": null,
   "metadata": {
    "ExecuteTime": {
     "end_time": "2019-04-17T06:43:47.736099Z",
     "start_time": "2019-04-17T06:43:47.588084Z"
    }
   },
   "outputs": [],
   "source": [
    "# カラム\n",
    "default_feature_train = train.columns\n",
    "default_feature_train"
   ]
  },
  {
   "cell_type": "code",
   "execution_count": null,
   "metadata": {
    "ExecuteTime": {
     "end_time": "2019-04-17T06:43:48.110137Z",
     "start_time": "2019-04-17T06:43:47.749100Z"
    },
    "scrolled": true
   },
   "outputs": [],
   "source": [
    "# 車種列挙\n",
    "train['car name'].unique()"
   ]
  },
  {
   "cell_type": "markdown",
   "metadata": {},
   "source": [
    "### 数量"
   ]
  },
  {
   "cell_type": "code",
   "execution_count": null,
   "metadata": {
    "ExecuteTime": {
     "end_time": "2019-04-17T06:43:48.137139Z",
     "start_time": "2019-04-17T06:43:48.132139Z"
    },
    "scrolled": true
   },
   "outputs": [],
   "source": [
    "# index 通り\n",
    "# df_plot_bar(train)"
   ]
  },
  {
   "cell_type": "code",
   "execution_count": null,
   "metadata": {
    "ExecuteTime": {
     "end_time": "2019-04-17T06:44:22.033529Z",
     "start_time": "2019-04-17T06:43:48.177143Z"
    }
   },
   "outputs": [],
   "source": [
    "# ランキング\n",
    "df_plot_bar(train, val_rank=True)"
   ]
  },
  {
   "cell_type": "markdown",
   "metadata": {},
   "source": [
    "### 頻度"
   ]
  },
  {
   "cell_type": "code",
   "execution_count": null,
   "metadata": {
    "ExecuteTime": {
     "end_time": "2019-04-17T07:52:25.315821Z",
     "start_time": "2019-04-17T07:52:21.468436Z"
    },
    "scrolled": true
   },
   "outputs": [],
   "source": [
    "# ヒストグラム&箱ひげ図\n",
    "df_plot_frec(train)"
   ]
  },
  {
   "cell_type": "code",
   "execution_count": null,
   "metadata": {
    "ExecuteTime": {
     "end_time": "2019-04-17T06:44:37.969122Z",
     "start_time": "2019-04-17T06:44:26.150940Z"
    },
    "scrolled": true
   },
   "outputs": [],
   "source": [
    "# 頻度ランキング\n",
    "df_plot_frec_bar(train, val_rank=True)"
   ]
  },
  {
   "cell_type": "code",
   "execution_count": null,
   "metadata": {
    "ExecuteTime": {
     "end_time": "2019-04-17T06:44:37.979123Z",
     "start_time": "2019-04-17T06:44:37.975123Z"
    },
    "scrolled": true
   },
   "outputs": [],
   "source": [
    "# 値昇順にしたときの頻度の並び\n",
    "#df_plot_frec_bar(train, sort_index=True)"
   ]
  },
  {
   "cell_type": "markdown",
   "metadata": {},
   "source": [
    "### 相関"
   ]
  },
  {
   "cell_type": "code",
   "execution_count": null,
   "metadata": {
    "ExecuteTime": {
     "end_time": "2019-04-17T06:44:38.156141Z",
     "start_time": "2019-04-17T06:44:37.985124Z"
    }
   },
   "outputs": [],
   "source": [
    "train.corr()"
   ]
  },
  {
   "cell_type": "code",
   "execution_count": null,
   "metadata": {
    "ExecuteTime": {
     "end_time": "2019-04-17T06:44:38.522177Z",
     "start_time": "2019-04-17T06:44:38.166142Z"
    }
   },
   "outputs": [],
   "source": [
    "sns.heatmap(train.corr(), cmap='Blues')"
   ]
  },
  {
   "cell_type": "code",
   "execution_count": null,
   "metadata": {
    "ExecuteTime": {
     "end_time": "2019-04-17T06:44:38.537179Z",
     "start_time": "2019-04-17T06:44:38.527178Z"
    },
    "scrolled": true
   },
   "outputs": [],
   "source": [
    "# mpg の相関係数列挙\n",
    "train.corr().mpg.abs().sort_values(ascending=False)"
   ]
  },
  {
   "cell_type": "code",
   "execution_count": null,
   "metadata": {
    "ExecuteTime": {
     "end_time": "2019-04-17T06:44:40.913416Z",
     "start_time": "2019-04-17T06:44:38.542179Z"
    }
   },
   "outputs": [],
   "source": [
    "sns.pairplot(train.loc[:, [\"mpg\", \"weight\", \"displacement\", \"horsepower\", \"cylinders\"]])"
   ]
  },
  {
   "cell_type": "code",
   "execution_count": null,
   "metadata": {
    "ExecuteTime": {
     "end_time": "2019-04-17T06:44:46.692994Z",
     "start_time": "2019-04-17T06:44:40.919417Z"
    }
   },
   "outputs": [],
   "source": [
    "sns.pairplot(train.loc[:, [\"mpg\", \"weight\", \"displacement\", \"horsepower\", \"cylinders\", \"origin\"]], hue=\"cylinders\")"
   ]
  },
  {
   "cell_type": "code",
   "execution_count": null,
   "metadata": {
    "ExecuteTime": {
     "end_time": "2019-04-17T06:44:51.835508Z",
     "start_time": "2019-04-17T06:44:46.697995Z"
    }
   },
   "outputs": [],
   "source": [
    "sns.pairplot(train.loc[:, [\"mpg\", \"weight\", \"displacement\", \"horsepower\", \"cylinders\", \"origin\"]], hue=\"origin\")"
   ]
  },
  {
   "cell_type": "markdown",
   "metadata": {},
   "source": [
    "#### 気になったデータ"
   ]
  },
  {
   "cell_type": "code",
   "execution_count": null,
   "metadata": {
    "ExecuteTime": {
     "end_time": "2019-04-17T06:44:51.865511Z",
     "start_time": "2019-04-17T06:44:51.841509Z"
    }
   },
   "outputs": [],
   "source": [
    "# シリンダー=3 は1件しかない\n",
    "train.loc[train.loc[:, \"cylinders\"]==3, :].sort_values(\"mpg\", ascending=False).head()"
   ]
  },
  {
   "cell_type": "code",
   "execution_count": null,
   "metadata": {
    "ExecuteTime": {
     "end_time": "2019-04-17T06:44:52.038529Z",
     "start_time": "2019-04-17T06:44:51.868512Z"
    },
    "scrolled": true
   },
   "outputs": [],
   "source": [
    "# シリンダー=5 も1件しかない\n",
    "train.loc[train.loc[:, \"cylinders\"]==5, :].sort_values(\"mpg\", ascending=False).head()"
   ]
  },
  {
   "cell_type": "code",
   "execution_count": null,
   "metadata": {
    "ExecuteTime": {
     "end_time": "2019-04-17T06:44:52.207546Z",
     "start_time": "2019-04-17T06:44:52.061531Z"
    }
   },
   "outputs": [],
   "source": [
    "# シリンダー=6 で突出してmpgが高い行が2件ある\n",
    "train.loc[train.loc[:, \"cylinders\"]==6, :].sort_values(\"mpg\", ascending=False).head()"
   ]
  },
  {
   "cell_type": "markdown",
   "metadata": {},
   "source": [
    "### グルーピング検討"
   ]
  },
  {
   "cell_type": "code",
   "execution_count": null,
   "metadata": {
    "ExecuteTime": {
     "end_time": "2019-04-17T06:44:52.306556Z",
     "start_time": "2019-04-17T06:44:52.214546Z"
    }
   },
   "outputs": [],
   "source": [
    "# モデル年は時系列でデータ確認するのに使えそう"
   ]
  },
  {
   "cell_type": "code",
   "execution_count": null,
   "metadata": {
    "ExecuteTime": {
     "end_time": "2019-04-17T06:44:52.442569Z",
     "start_time": "2019-04-17T06:44:52.312556Z"
    }
   },
   "outputs": [],
   "source": [
    "# 同車種名で世代が分かれているかどうか確認した。分かれていなかったからグルーピングは難しいと考える。\n",
    "train[train.loc[:, \"car name\"].str.contains(\"corona\")]"
   ]
  },
  {
   "cell_type": "markdown",
   "metadata": {},
   "source": [
    "## test"
   ]
  },
  {
   "cell_type": "code",
   "execution_count": null,
   "metadata": {
    "ExecuteTime": {
     "end_time": "2019-04-17T06:44:52.621587Z",
     "start_time": "2019-04-17T06:44:52.463571Z"
    },
    "scrolled": false
   },
   "outputs": [],
   "source": [
    "# データサイズ\n",
    "test.shape"
   ]
  },
  {
   "cell_type": "code",
   "execution_count": null,
   "metadata": {
    "ExecuteTime": {
     "end_time": "2019-04-17T06:44:52.820607Z",
     "start_time": "2019-04-17T06:44:52.671592Z"
    },
    "scrolled": true
   },
   "outputs": [],
   "source": [
    "# データサンプル\n",
    "test.head()"
   ]
  },
  {
   "cell_type": "code",
   "execution_count": null,
   "metadata": {
    "ExecuteTime": {
     "end_time": "2019-04-17T06:44:52.962621Z",
     "start_time": "2019-04-17T06:44:52.840609Z"
    }
   },
   "outputs": [],
   "source": [
    "# 基本統計量\n",
    "test.describe()"
   ]
  },
  {
   "cell_type": "code",
   "execution_count": null,
   "metadata": {
    "ExecuteTime": {
     "end_time": "2019-04-17T06:44:53.060631Z",
     "start_time": "2019-04-17T06:44:52.967622Z"
    }
   },
   "outputs": [],
   "source": [
    "# 型\n",
    "test.dtypes"
   ]
  },
  {
   "cell_type": "code",
   "execution_count": null,
   "metadata": {
    "ExecuteTime": {
     "end_time": "2019-04-17T06:44:53.164641Z",
     "start_time": "2019-04-17T06:44:53.068632Z"
    }
   },
   "outputs": [],
   "source": [
    "# ユニーク数\n",
    "test.nunique()"
   ]
  },
  {
   "cell_type": "code",
   "execution_count": null,
   "metadata": {
    "ExecuteTime": {
     "end_time": "2019-04-17T06:44:53.272652Z",
     "start_time": "2019-04-17T06:44:53.221647Z"
    },
    "scrolled": false
   },
   "outputs": [],
   "source": [
    "# NA数\n",
    "test.isna().sum()"
   ]
  },
  {
   "cell_type": "code",
   "execution_count": null,
   "metadata": {
    "ExecuteTime": {
     "end_time": "2019-04-17T06:44:53.365661Z",
     "start_time": "2019-04-17T06:44:53.279653Z"
    }
   },
   "outputs": [],
   "source": [
    "# カラム\n",
    "default_feature_test = test.columns\n",
    "default_feature_test"
   ]
  },
  {
   "cell_type": "markdown",
   "metadata": {},
   "source": [
    "----"
   ]
  },
  {
   "cell_type": "markdown",
   "metadata": {},
   "source": [
    "# 前処理 ＆ データ保存"
   ]
  },
  {
   "cell_type": "markdown",
   "metadata": {},
   "source": [
    "## 必要最低限の処理"
   ]
  },
  {
   "cell_type": "code",
   "execution_count": null,
   "metadata": {
    "ExecuteTime": {
     "end_time": "2019-04-17T06:44:53.733698Z",
     "start_time": "2019-04-17T06:44:53.372662Z"
    }
   },
   "outputs": [],
   "source": [
    "# 異常行削除\n",
    "train = train.loc[train.loc[:, 'horsepower']!=\"?\", :]\n",
    "train.horsepower = train.horsepower.astype(\"float64\")"
   ]
  },
  {
   "cell_type": "code",
   "execution_count": null,
   "metadata": {
    "ExecuteTime": {
     "end_time": "2019-04-17T06:44:53.792704Z",
     "start_time": "2019-04-17T06:44:53.737699Z"
    }
   },
   "outputs": [],
   "source": [
    "# 保管\n",
    "if FILE_SAVE:\n",
    "    train.to_csv(\"./data/train_processed_00.csv\")"
   ]
  },
  {
   "cell_type": "markdown",
   "metadata": {},
   "source": [
    "## 精度向上のための処理1"
   ]
  },
  {
   "cell_type": "code",
   "execution_count": null,
   "metadata": {
    "ExecuteTime": {
     "end_time": "2019-04-17T06:44:53.929718Z",
     "start_time": "2019-04-17T06:44:53.796705Z"
    }
   },
   "outputs": [],
   "source": [
    "# レアケース行削除\n",
    "train = train.loc[train.loc[:, \"cylinders\"]!=3, :]\n",
    "train = train.loc[train.loc[:, \"cylinders\"]!=5, :]\n",
    "train = train.loc[~((train.loc[:, \"cylinders\"]==6) & (train.loc[:, \"mpg\"]>32)), :]"
   ]
  },
  {
   "cell_type": "code",
   "execution_count": null,
   "metadata": {
    "ExecuteTime": {
     "end_time": "2019-04-17T06:44:54.108736Z",
     "start_time": "2019-04-17T06:44:53.933718Z"
    }
   },
   "outputs": [],
   "source": [
    "# 保管\n",
    "if FILE_SAVE:\n",
    "    train.to_csv(\"./data/train_processed_01.csv\")"
   ]
  },
  {
   "cell_type": "markdown",
   "metadata": {},
   "source": [
    "## 精度向上のための処理2"
   ]
  },
  {
   "cell_type": "code",
   "execution_count": null,
   "metadata": {},
   "outputs": [],
   "source": [
    "train.drop(columns=[\"acceleration\", \"origin\"], inplace=True)"
   ]
  },
  {
   "cell_type": "code",
   "execution_count": null,
   "metadata": {},
   "outputs": [],
   "source": [
    "# 保管\n",
    "if FILE_SAVE:\n",
    "    train.to_csv(\"./data/train_processed_02.csv\")"
   ]
  },
  {
   "cell_type": "markdown",
   "metadata": {},
   "source": [
    "## 標準化"
   ]
  },
  {
   "cell_type": "code",
   "execution_count": null,
   "metadata": {
    "ExecuteTime": {
     "end_time": "2019-04-17T06:44:54.194744Z",
     "start_time": "2019-04-17T06:44:54.116737Z"
    }
   },
   "outputs": [],
   "source": [
    "# スキップ"
   ]
  },
  {
   "cell_type": "markdown",
   "metadata": {},
   "source": [
    "## 時系列データ（model yaer)"
   ]
  },
  {
   "cell_type": "code",
   "execution_count": null,
   "metadata": {
    "ExecuteTime": {
     "end_time": "2019-04-17T07:45:57.949088Z",
     "start_time": "2019-04-17T07:45:57.869080Z"
    },
    "scrolled": false
   },
   "outputs": [],
   "source": [
    "# 時系列データ化\n",
    "train2 = train.copy()\n",
    "train2['model year'] = pd.to_datetime(\"19\" + train['model year'].astype('str'), format=\"%Y\")\n",
    "# モデル年ごとにグルーピング\n",
    "#grouped = \n",
    "grouped = train2.drop(columns=[\"id\", \"origin\"]).groupby(pd.Grouper(key='model year', freq='Y')).mean()\n",
    "grouped"
   ]
  },
  {
   "cell_type": "markdown",
   "metadata": {},
   "source": [
    "----"
   ]
  },
  {
   "cell_type": "markdown",
   "metadata": {},
   "source": [
    "# 前処理後データ確認"
   ]
  },
  {
   "cell_type": "markdown",
   "metadata": {},
   "source": [
    "## train"
   ]
  },
  {
   "cell_type": "code",
   "execution_count": null,
   "metadata": {
    "ExecuteTime": {
     "end_time": "2019-04-17T06:44:54.708796Z",
     "start_time": "2019-04-17T06:44:54.685793Z"
    },
    "scrolled": false
   },
   "outputs": [],
   "source": [
    "# データサイズ\n",
    "train.shape"
   ]
  },
  {
   "cell_type": "code",
   "execution_count": null,
   "metadata": {
    "ExecuteTime": {
     "end_time": "2019-04-17T06:44:54.938819Z",
     "start_time": "2019-04-17T06:44:54.713796Z"
    },
    "scrolled": false
   },
   "outputs": [],
   "source": [
    "# データサンプル\n",
    "train.head()"
   ]
  },
  {
   "cell_type": "code",
   "execution_count": null,
   "metadata": {
    "ExecuteTime": {
     "end_time": "2019-04-17T06:44:55.102835Z",
     "start_time": "2019-04-17T06:44:54.970822Z"
    }
   },
   "outputs": [],
   "source": [
    "# 基本統計量\n",
    "train.describe()"
   ]
  },
  {
   "cell_type": "code",
   "execution_count": null,
   "metadata": {
    "ExecuteTime": {
     "end_time": "2019-04-17T06:44:55.159841Z",
     "start_time": "2019-04-17T06:44:55.108836Z"
    }
   },
   "outputs": [],
   "source": [
    "# 型\n",
    "train.dtypes"
   ]
  },
  {
   "cell_type": "code",
   "execution_count": null,
   "metadata": {
    "ExecuteTime": {
     "end_time": "2019-04-17T06:44:55.271852Z",
     "start_time": "2019-04-17T06:44:55.164841Z"
    },
    "scrolled": true
   },
   "outputs": [],
   "source": [
    "# ユニーク数\n",
    "train.nunique()"
   ]
  },
  {
   "cell_type": "code",
   "execution_count": null,
   "metadata": {
    "ExecuteTime": {
     "end_time": "2019-04-17T06:44:55.403865Z",
     "start_time": "2019-04-17T06:44:55.275852Z"
    },
    "scrolled": false
   },
   "outputs": [],
   "source": [
    "# NA数\n",
    "train.isna().sum()"
   ]
  },
  {
   "cell_type": "code",
   "execution_count": null,
   "metadata": {
    "ExecuteTime": {
     "end_time": "2019-04-17T06:44:55.488874Z",
     "start_time": "2019-04-17T06:44:55.411866Z"
    }
   },
   "outputs": [],
   "source": [
    "# カラム\n",
    "default_feature_train = train.columns\n",
    "default_feature_train"
   ]
  },
  {
   "cell_type": "code",
   "execution_count": null,
   "metadata": {
    "ExecuteTime": {
     "end_time": "2019-04-17T06:44:55.591884Z",
     "start_time": "2019-04-17T06:44:55.492874Z"
    },
    "scrolled": true
   },
   "outputs": [],
   "source": [
    "# 車種列挙\n",
    "train['car name'].unique()"
   ]
  },
  {
   "cell_type": "markdown",
   "metadata": {},
   "source": [
    "### 数量"
   ]
  },
  {
   "cell_type": "code",
   "execution_count": null,
   "metadata": {
    "ExecuteTime": {
     "end_time": "2019-04-17T06:44:55.823907Z",
     "start_time": "2019-04-17T06:44:55.596885Z"
    },
    "scrolled": true
   },
   "outputs": [],
   "source": [
    "# index 通り\n",
    "# df_plot_bar(train)"
   ]
  },
  {
   "cell_type": "code",
   "execution_count": null,
   "metadata": {
    "ExecuteTime": {
     "end_time": "2019-04-17T06:44:56.062931Z",
     "start_time": "2019-04-17T06:44:55.833908Z"
    }
   },
   "outputs": [],
   "source": [
    "# ランキング\n",
    "# df_plot_bar(train, val_rank=True)"
   ]
  },
  {
   "cell_type": "markdown",
   "metadata": {},
   "source": [
    "### 頻度"
   ]
  },
  {
   "cell_type": "code",
   "execution_count": null,
   "metadata": {
    "ExecuteTime": {
     "end_time": "2019-04-17T07:04:32.500568Z",
     "start_time": "2019-04-17T07:04:28.951213Z"
    },
    "scrolled": false
   },
   "outputs": [],
   "source": [
    "# ヒストグラム&箱ひげ図\n",
    "df_plot_frec(train)"
   ]
  },
  {
   "cell_type": "code",
   "execution_count": null,
   "metadata": {
    "ExecuteTime": {
     "end_time": "2019-04-17T06:45:10.823407Z",
     "start_time": "2019-04-17T06:45:00.246349Z"
    },
    "scrolled": true
   },
   "outputs": [],
   "source": [
    "# 頻度ランキング\n",
    "df_plot_frec_bar(train, val_rank=True)"
   ]
  },
  {
   "cell_type": "code",
   "execution_count": null,
   "metadata": {
    "ExecuteTime": {
     "end_time": "2019-04-17T06:45:10.833408Z",
     "start_time": "2019-04-17T06:45:10.829408Z"
    },
    "scrolled": true
   },
   "outputs": [],
   "source": [
    "# 値昇順にしたときの頻度の並び\n",
    "# df_plot_frec_bar(train, sort_index=True)"
   ]
  },
  {
   "cell_type": "markdown",
   "metadata": {},
   "source": [
    "### 相関"
   ]
  },
  {
   "cell_type": "code",
   "execution_count": null,
   "metadata": {
    "ExecuteTime": {
     "end_time": "2019-04-17T06:45:10.951420Z",
     "start_time": "2019-04-17T06:45:10.842409Z"
    },
    "scrolled": true
   },
   "outputs": [],
   "source": [
    "# 各列の特徴量\n",
    "train.corr()"
   ]
  },
  {
   "cell_type": "code",
   "execution_count": null,
   "metadata": {
    "ExecuteTime": {
     "end_time": "2019-04-17T06:45:11.342459Z",
     "start_time": "2019-04-17T06:45:10.957420Z"
    },
    "scrolled": true
   },
   "outputs": [],
   "source": [
    "# 特徴量をヒートマップで可視化\n",
    "sns.heatmap(train.corr(), cmap='Blues')"
   ]
  },
  {
   "cell_type": "code",
   "execution_count": null,
   "metadata": {
    "ExecuteTime": {
     "end_time": "2019-04-17T06:45:11.354460Z",
     "start_time": "2019-04-17T06:45:11.345459Z"
    },
    "scrolled": true
   },
   "outputs": [],
   "source": [
    "# 目的変数 mpg の相関係数列挙\n",
    "train.corr().mpg.abs().sort_values(ascending=False)"
   ]
  },
  {
   "cell_type": "markdown",
   "metadata": {},
   "source": [
    "強い相関\n",
    "\n",
    "- 重量\n",
    "- 排気量\n",
    "- 馬力\n",
    "- シリンダ数\n",
    "\n",
    "mpg(燃費)との因果関係がある項目として、\n",
    "感覚的に重量は間違いない。\n",
    "排気量、馬力、シリンダ数もエンジンのパフォーマンスに影響するのでたぶん関はあるがよく分からない。\n",
    "この辺は基礎集計を通して紐解いていきたい。"
   ]
  },
  {
   "cell_type": "code",
   "execution_count": null,
   "metadata": {
    "ExecuteTime": {
     "end_time": "2019-04-17T06:45:15.151840Z",
     "start_time": "2019-04-17T06:45:11.357460Z"
    }
   },
   "outputs": [],
   "source": [
    "# 目的変数と強い相関を持つ変数の分布\n",
    "sns.pairplot(train.loc[:, [\"mpg\", \"weight\", \"displacement\", \"horsepower\", \"cylinders\"]])"
   ]
  },
  {
   "cell_type": "code",
   "execution_count": null,
   "metadata": {
    "ExecuteTime": {
     "end_time": "2019-04-17T06:45:22.756600Z",
     "start_time": "2019-04-17T06:45:15.155840Z"
    },
    "scrolled": false
   },
   "outputs": [],
   "source": [
    "# 目的変数と強い相関を持つ変数の分布 シリンダ数で色分け\n",
    "sns.pairplot(train.loc[:, [\"mpg\", \"weight\", \"displacement\", \"horsepower\", \"cylinders\", \"origin\"]], hue=\"cylinders\")"
   ]
  },
  {
   "cell_type": "markdown",
   "metadata": {},
   "source": [
    "mpg 行の分布から、きれいに分布が分かれているように見える。\n",
    "シリンダ数が違う中でそれぞれ傾向が見える可能性がある。"
   ]
  },
  {
   "cell_type": "code",
   "execution_count": null,
   "metadata": {
    "ExecuteTime": {
     "end_time": "2019-04-17T06:45:30.262351Z",
     "start_time": "2019-04-17T06:45:22.759601Z"
    }
   },
   "outputs": [],
   "source": [
    "# 目的変数と強い相関を持つ変数の分布 世代数で色分け\n",
    "sns.pairplot(train.loc[:, [\"mpg\", \"weight\", \"displacement\", \"horsepower\", \"cylinders\", \"origin\"]], hue=\"origin\")"
   ]
  },
  {
   "cell_type": "markdown",
   "metadata": {},
   "source": [
    "シリンダ数の時と違って、mpg行の分布がきれいに色別れしない。\n",
    "世代別の傾向は現れなかったと判断。"
   ]
  },
  {
   "cell_type": "markdown",
   "metadata": {},
   "source": [
    "### 時系列"
   ]
  },
  {
   "cell_type": "code",
   "execution_count": null,
   "metadata": {
    "ExecuteTime": {
     "end_time": "2019-04-17T06:45:31.441469Z",
     "start_time": "2019-04-17T06:45:30.265351Z"
    },
    "scrolled": true
   },
   "outputs": [],
   "source": [
    "# モデルイヤー別、各変数の平均値\n",
    "df_plot_time(grouped)"
   ]
  },
  {
   "cell_type": "code",
   "execution_count": null,
   "metadata": {
    "ExecuteTime": {
     "end_time": "2019-04-17T07:41:02.484544Z",
     "start_time": "2019-04-17T07:40:57.984094Z"
    }
   },
   "outputs": [],
   "source": [
    "# モデルイヤー別のmpgヒストグラム\n",
    "for x in train2.drop(columns=[\"id\", \"origin\"]).groupby(pd.Grouper(key='model year', freq='Y')):\n",
    "    #print(x[1].mpg)\n",
    "\n",
    "    fig = plt.figure(figsize=(12,2))\n",
    "    ax1 = fig.add_subplot(121)\n",
    "    ax2 = fig.add_subplot(122)\n",
    "    ax1.set_xlim([0, 40])\n",
    "    if len(x[1]) > 20:\n",
    "        ax1.hist(x[1].mpg, bins=20)\n",
    "        ax2.boxplot(x[1].mpg)\n",
    "    else:\n",
    "        ax1.hist(x[1].mpg)\n",
    "        ax2.boxplot(x[1].mpg)"
   ]
  },
  {
   "cell_type": "markdown",
   "metadata": {
    "ExecuteTime": {
     "end_time": "2019-04-17T10:03:18.777068Z",
     "start_time": "2019-04-17T10:03:18.776068Z"
    }
   },
   "source": [
    "## 追加調査：メーカー"
   ]
  },
  {
   "cell_type": "code",
   "execution_count": null,
   "metadata": {
    "ExecuteTime": {
     "end_time": "2019-04-17T10:12:55.791274Z",
     "start_time": "2019-04-17T10:12:55.788274Z"
    }
   },
   "outputs": [],
   "source": [
    "maker_list = [\"honda\", \"toyota\", \"subaru\", \"mazda\", \"suzuki\", \"volkswagen\"]"
   ]
  },
  {
   "cell_type": "code",
   "execution_count": null,
   "metadata": {
    "ExecuteTime": {
     "end_time": "2019-04-17T10:15:36.400319Z",
     "start_time": "2019-04-17T10:15:36.310514Z"
    }
   },
   "outputs": [],
   "source": [
    "def count_makers(df):\n",
    "    n_sum=0\n",
    "    for x in maker_list:\n",
    "        n = len( df.loc[df.loc[:, 'car name'].str.contains(x), :])\n",
    "        n_sum += n\n",
    "        print(x + \" :\" + str(n))\n",
    "\n",
    "    print(\"[sum]\" + str(n_sum))"
   ]
  },
  {
   "cell_type": "code",
   "execution_count": null,
   "metadata": {
    "ExecuteTime": {
     "end_time": "2019-04-17T10:15:42.814522Z",
     "start_time": "2019-04-17T10:15:42.780519Z"
    },
    "scrolled": true
   },
   "outputs": [],
   "source": [
    "count_makers(train)"
   ]
  },
  {
   "cell_type": "code",
   "execution_count": null,
   "metadata": {
    "ExecuteTime": {
     "end_time": "2019-04-17T10:05:03.111377Z",
     "start_time": "2019-04-17T10:05:02.835364Z"
    }
   },
   "outputs": [],
   "source": [
    " train.loc[train.loc[:, 'car name'].str.contains(\"honda\"), :]"
   ]
  },
  {
   "cell_type": "code",
   "execution_count": null,
   "metadata": {
    "ExecuteTime": {
     "end_time": "2019-04-17T10:04:46.274620Z",
     "start_time": "2019-04-17T10:04:45.783600Z"
    }
   },
   "outputs": [],
   "source": [
    " train.loc[train.loc[:, 'car name'].str.contains(\"toyota\"), :]"
   ]
  },
  {
   "cell_type": "code",
   "execution_count": null,
   "metadata": {
    "ExecuteTime": {
     "end_time": "2019-04-17T10:07:41.044634Z",
     "start_time": "2019-04-17T10:07:40.876223Z"
    }
   },
   "outputs": [],
   "source": [
    " train.loc[train.loc[:, 'car name'].str.contains(\"\"), :]"
   ]
  },
  {
   "cell_type": "code",
   "execution_count": null,
   "metadata": {
    "ExecuteTime": {
     "end_time": "2019-04-17T10:07:17.817991Z",
     "start_time": "2019-04-17T10:07:17.734983Z"
    }
   },
   "outputs": [],
   "source": [
    " train.loc[train.loc[:, 'car name'].str.contains(\"subaru\"), :]"
   ]
  },
  {
   "cell_type": "code",
   "execution_count": null,
   "metadata": {
    "ExecuteTime": {
     "end_time": "2019-04-17T10:05:11.560586Z",
     "start_time": "2019-04-17T10:05:11.450378Z"
    }
   },
   "outputs": [],
   "source": [
    " train.loc[train.loc[:, 'car name'].str.contains(\"mazda\"), :]"
   ]
  },
  {
   "cell_type": "code",
   "execution_count": null,
   "metadata": {
    "ExecuteTime": {
     "end_time": "2019-04-17T10:05:18.511960Z",
     "start_time": "2019-04-17T10:05:18.388152Z"
    }
   },
   "outputs": [],
   "source": [
    " train.loc[train.loc[:, 'car name'].str.contains(\"suzuki\"), :]"
   ]
  },
  {
   "cell_type": "markdown",
   "metadata": {
    "ExecuteTime": {
     "end_time": "2019-04-17T07:05:04.854803Z",
     "start_time": "2019-04-17T07:05:04.843802Z"
    }
   },
   "source": [
    "## 追加調査：高mpg の傾向"
   ]
  },
  {
   "cell_type": "code",
   "execution_count": null,
   "metadata": {
    "ExecuteTime": {
     "end_time": "2019-04-17T07:06:54.418758Z",
     "start_time": "2019-04-17T07:06:54.409757Z"
    }
   },
   "outputs": [],
   "source": [
    "# 実際よく予想をはずした 30以上から見ていく\n",
    "train_30 = train.loc[train['mpg']>=30, :]"
   ]
  },
  {
   "cell_type": "code",
   "execution_count": null,
   "metadata": {
    "ExecuteTime": {
     "end_time": "2019-04-17T07:07:20.854402Z",
     "start_time": "2019-04-17T07:07:20.848401Z"
    }
   },
   "outputs": [],
   "source": [
    "# 全体の25%\n",
    "len(train_30), len(train_30)/len(train)*100"
   ]
  },
  {
   "cell_type": "code",
   "execution_count": null,
   "metadata": {
    "ExecuteTime": {
     "end_time": "2019-04-17T10:02:32.705053Z",
     "start_time": "2019-04-17T10:02:32.537240Z"
    }
   },
   "outputs": [],
   "source": [
    "train_30['car name']"
   ]
  },
  {
   "cell_type": "code",
   "execution_count": null,
   "metadata": {
    "ExecuteTime": {
     "end_time": "2019-04-17T10:15:57.795100Z",
     "start_time": "2019-04-17T10:15:57.508889Z"
    }
   },
   "outputs": [],
   "source": [
    "# トヨタやるやないか\n",
    "count_makers(train_30)"
   ]
  },
  {
   "cell_type": "code",
   "execution_count": null,
   "metadata": {
    "ExecuteTime": {
     "end_time": "2019-04-17T07:09:46.384953Z",
     "start_time": "2019-04-17T07:09:46.370952Z"
    }
   },
   "outputs": [],
   "source": [
    "# シリンダーは4のみ\n",
    "train_30.cylinders.unique()"
   ]
  },
  {
   "cell_type": "code",
   "execution_count": null,
   "metadata": {
    "ExecuteTime": {
     "end_time": "2019-04-17T07:10:59.862300Z",
     "start_time": "2019-04-17T07:10:59.847299Z"
    }
   },
   "outputs": [],
   "source": [
    "# シリンダー＝４のおよそ45％の割合\n",
    "len(train_30) / (train.cylinders==4).sum() * 100"
   ]
  },
  {
   "cell_type": "markdown",
   "metadata": {},
   "source": [
    "### 頻度"
   ]
  },
  {
   "cell_type": "code",
   "execution_count": null,
   "metadata": {
    "ExecuteTime": {
     "end_time": "2019-04-17T07:42:02.965592Z",
     "start_time": "2019-04-17T07:41:59.513247Z"
    },
    "scrolled": false
   },
   "outputs": [],
   "source": [
    "df_plot_frec(train_30)"
   ]
  },
  {
   "cell_type": "markdown",
   "metadata": {},
   "source": [
    "モデルイヤーが新しい＝mpgが良い（低燃費）"
   ]
  },
  {
   "cell_type": "markdown",
   "metadata": {},
   "source": [
    "### 相関"
   ]
  },
  {
   "cell_type": "code",
   "execution_count": null,
   "metadata": {
    "ExecuteTime": {
     "end_time": "2019-04-17T07:12:30.693382Z",
     "start_time": "2019-04-17T07:12:30.641377Z"
    },
    "scrolled": true
   },
   "outputs": [],
   "source": [
    "train_30.corr()"
   ]
  },
  {
   "cell_type": "code",
   "execution_count": null,
   "metadata": {
    "ExecuteTime": {
     "end_time": "2019-04-17T07:12:37.932106Z",
     "start_time": "2019-04-17T07:12:37.556069Z"
    }
   },
   "outputs": [],
   "source": [
    "# 特徴量をヒートマップで可視化\n",
    "sns.heatmap(train_30.corr(), cmap='Blues')"
   ]
  },
  {
   "cell_type": "code",
   "execution_count": null,
   "metadata": {
    "ExecuteTime": {
     "end_time": "2019-04-17T07:24:44.978804Z",
     "start_time": "2019-04-17T07:24:41.485454Z"
    }
   },
   "outputs": [],
   "source": [
    "# 目的変数と強い相関を持つ変数の分布 世代数で色分け\n",
    "sns.pairplot(train_30.loc[:, [\"mpg\", \"weight\", \"displacement\", \"horsepower\", \"model year\"]])"
   ]
  },
  {
   "cell_type": "markdown",
   "metadata": {},
   "source": [
    "# 仮説"
   ]
  },
  {
   "cell_type": "markdown",
   "metadata": {},
   "source": [
    "- シリンダー数の違いによって分布の傾向が出やすい傾向にある\n",
    "  - より傾向を顕著にするよう、突出したデータを削除すれば一般的な予測精度が上がると考えられる"
   ]
  }
 ],
 "metadata": {
  "kernelspec": {
   "display_name": "Python 3",
   "language": "python",
   "name": "python3"
  },
  "language_info": {
   "codemirror_mode": {
    "name": "ipython",
    "version": 3
   },
   "file_extension": ".py",
   "mimetype": "text/x-python",
   "name": "python",
   "nbconvert_exporter": "python",
   "pygments_lexer": "ipython3",
   "version": "3.6.5"
  },
  "toc": {
   "base_numbering": 1,
   "nav_menu": {},
   "number_sections": true,
   "sideBar": true,
   "skip_h1_title": false,
   "title_cell": "Table of Contents",
   "title_sidebar": "Contents",
   "toc_cell": false,
   "toc_position": {
    "height": "calc(100% - 180px)",
    "left": "10px",
    "top": "150px",
    "width": "254px"
   },
   "toc_section_display": true,
   "toc_window_display": true
  }
 },
 "nbformat": 4,
 "nbformat_minor": 2
}
