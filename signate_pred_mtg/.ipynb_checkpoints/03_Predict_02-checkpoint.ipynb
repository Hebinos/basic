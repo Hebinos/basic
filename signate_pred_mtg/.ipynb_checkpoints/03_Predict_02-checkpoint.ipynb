{
 "cells": [
  {
   "cell_type": "markdown",
   "metadata": {},
   "source": [
    "# 準備"
   ]
  },
  {
   "cell_type": "code",
   "execution_count": null,
   "metadata": {
    "ExecuteTime": {
     "end_time": "2019-04-17T08:20:02.380569Z",
     "start_time": "2019-04-17T08:20:02.370569Z"
    }
   },
   "outputs": [],
   "source": [
    "import numpy as np\n",
    "import pandas as pd\n",
    "import matplotlib.pyplot as plt\n",
    "%matplotlib inline\n",
    "\n",
    "FILE_SAVE = False\n",
    "DEFAULT_COLOR = '#1f77b4'"
   ]
  },
  {
   "cell_type": "code",
   "execution_count": null,
   "metadata": {
    "ExecuteTime": {
     "end_time": "2019-04-17T08:20:02.609569Z",
     "start_time": "2019-04-17T08:20:02.385569Z"
    }
   },
   "outputs": [],
   "source": [
    "from sklearn.model_selection import train_test_split\n",
    "from sklearn.metrics import mean_squared_error\n",
    "from sklearn.metrics import r2_score\n",
    "from sklearn.model_selection import cross_val_score, KFold\n",
    "import pickle\n",
    "import math"
   ]
  },
  {
   "cell_type": "code",
   "execution_count": null,
   "metadata": {
    "ExecuteTime": {
     "end_time": "2019-04-17T08:20:02.805569Z",
     "start_time": "2019-04-17T08:20:02.624569Z"
    }
   },
   "outputs": [],
   "source": [
    "train = pd.read_csv(\"./data/train_processed_02.csv\")"
   ]
  },
  {
   "cell_type": "code",
   "execution_count": null,
   "metadata": {
    "ExecuteTime": {
     "end_time": "2019-04-17T08:20:02.898569Z",
     "start_time": "2019-04-17T08:20:02.814569Z"
    }
   },
   "outputs": [],
   "source": [
    "rf_model      = pickle.load(open(\"./data/rf_model_02.sav\", 'rb'))\n",
    "rf_model_cv = pickle.load(open(\"./data/rf_model_cv_02.sav\", 'rb'))"
   ]
  },
  {
   "cell_type": "code",
   "execution_count": null,
   "metadata": {
    "ExecuteTime": {
     "end_time": "2019-04-17T08:20:02.996569Z",
     "start_time": "2019-04-17T08:20:02.902569Z"
    }
   },
   "outputs": [],
   "source": [
    "#model_list = [rf_model_0, rf_model_best_0, rf_model_1, rf_model_best_1]\n",
    "#model_names = [\"rf_model_0\", \"rf_model_best_0\", \"rf_model_1\", \"rf_model_best_1\"]\n",
    "\n",
    "model_list = [rf_model]\n",
    "model_names = [\"rf_model_01\"]\n",
    "\n",
    "cv_model_list = [rf_model_cv]\n",
    "best_model_names = [\"rf_model_best_01\"]"
   ]
  },
  {
   "cell_type": "markdown",
   "metadata": {
    "ExecuteTime": {
     "end_time": "2019-04-17T06:18:49.325743Z",
     "start_time": "2019-04-17T06:18:49.305743Z"
    }
   },
   "source": [
    "## 可視化関数"
   ]
  },
  {
   "cell_type": "code",
   "execution_count": null,
   "metadata": {
    "ExecuteTime": {
     "end_time": "2019-04-17T08:20:03.079569Z",
     "start_time": "2019-04-17T08:20:02.999569Z"
    }
   },
   "outputs": [],
   "source": [
    "def plot_residuals(y_train_pred, y_test_pred):\n",
    "    # 赤線に近いほど残差が少ない\n",
    "    \n",
    "    fig = plt.figure(figsize = (21, 5))\n",
    "\n",
    "    # 予想値と残差収束\n",
    "    ax = fig.add_subplot(131)\n",
    "    ax.scatter(y_train_pred, y_train_pred - y_train, c = 'black', marker = 'o', s = 35, alpha = 0.5, label = 'Training data')\n",
    "    ax.scatter(y_test_pred, y_test_pred - y_test, c = 'lightgreen', marker = 's', s = 35, alpha = 0.7, label = 'Test data')\n",
    "    ax.set_xlabel('Predicted values')\n",
    "    ax.set_ylabel('Residuals')\n",
    "    ax.legend(loc = 'upper left')\n",
    "    ax.hlines(y = 0, xmin = -10, xmax = 50, lw = 2, color = 'red')\n",
    "    ax.set_xlim([-10, 50])\n",
    "\n",
    "    # 実値と残差収束\n",
    "    ax = fig.add_subplot(132)\n",
    "    ax.scatter(y_train, y_train_pred - y_train, c = 'black', marker = 'o', s = 35, alpha = 0.5, label = 'Training data')\n",
    "    ax.scatter(y_test, y_test_pred - y_test, c = 'lightgreen', marker = 's', s = 35, alpha = 0.7, label = 'Test data')\n",
    "    ax.set_xlabel('Real values')\n",
    "    ax.set_ylabel('Residuals')\n",
    "    ax.legend(loc = 'upper left')\n",
    "    ax.hlines(y = 0, xmin = -10, xmax = 50, lw = 2, color = 'red')\n",
    "    ax.set_xlim([-10, 50])\n",
    "\n",
    "    # 残差ヒストグラム\n",
    "    ax = fig.add_subplot(133)\n",
    "    ax.hist(y_train_pred - y_train, color = 'black', alpha=0.3)\n",
    "    ax.hist( y_test_pred - y_test, color = 'lightgreen', alpha=0.3)"
   ]
  },
  {
   "cell_type": "code",
   "execution_count": null,
   "metadata": {
    "ExecuteTime": {
     "end_time": "2019-04-17T08:20:03.181569Z",
     "start_time": "2019-04-17T08:20:03.082569Z"
    }
   },
   "outputs": [],
   "source": [
    "def plot_residuals2(y_train_pred, y_test_pred):\n",
    "    # 赤線に近いほど残差が少ない\n",
    "\n",
    "    fig = plt.figure(figsize = (14, 10))\n",
    "\n",
    "    # 予想値と残差収束\n",
    "    ax = fig.add_subplot(221)\n",
    "    ax.scatter(y_train_pred, y_train_pred - y_train, c = 'black', marker = 'o', s = 35, alpha = 0.5, label = 'Training data')\n",
    "    ax.scatter(y_test_pred, y_test_pred - y_test, c = 'lightgreen', marker = 's', s = 35, alpha = 0.7, label = 'Test data')\n",
    "    ax.set_xlabel('Predicted values')\n",
    "    ax.set_ylabel('Residuals')\n",
    "    ax.legend(loc = 'upper left')\n",
    "    ax.hlines(y = 0, xmin = -10, xmax = 50, lw = 2, color = 'red')\n",
    "    ax.set_xlim([-10, 50])\n",
    "\n",
    "    # 実値と残差収束\n",
    "    ax = fig.add_subplot(222)\n",
    "    ax.scatter(y_train, y_train_pred - y_train, c = 'black', marker = 'o', s = 35, alpha = 0.5, label = 'Training data')\n",
    "    ax.scatter(y_test, y_test_pred - y_test, c = 'lightgreen', marker = 's', s = 35, alpha = 0.7, label = 'Test data')\n",
    "    ax.set_xlabel('Real values')\n",
    "    ax.set_ylabel('Residuals')\n",
    "    ax.legend(loc = 'upper left')\n",
    "    ax.hlines(y = 0, xmin = -10, xmax = 50, lw = 2, color = 'red')\n",
    "    ax.set_xlim([-10, 50])\n",
    "\n",
    "    # 残差ヒストグラム\n",
    "    ax = fig.add_subplot(223)\n",
    "    ax.hist(y_train_pred - y_train, color = 'black', alpha=0.3)\n",
    "    ax.hist( y_test_pred - y_test, color = 'lightgreen', alpha=0.3)\n",
    "\n",
    "    # 実際の値\n",
    "    ax = fig.add_subplot(224)\n",
    "    ax.scatter(y_train, y_train_pred, c = 'black', marker = 'o', s = 35, alpha = 0.5, label = 'Training data')\n",
    "    ax.scatter(y_test, y_test_pred, c = 'lightgreen', marker = 's', s = 35, alpha = 0.7, label = 'Test data')\n",
    "    ax.plot(y_test, y_test, c=\"r\")\n",
    "    ax.set_xlabel('Real')\n",
    "    ax.set_ylabel('Predict')"
   ]
  },
  {
   "cell_type": "markdown",
   "metadata": {},
   "source": [
    "# データ確認"
   ]
  },
  {
   "cell_type": "code",
   "execution_count": null,
   "metadata": {
    "ExecuteTime": {
     "end_time": "2019-04-17T08:20:03.308569Z",
     "start_time": "2019-04-17T08:20:03.185569Z"
    }
   },
   "outputs": [],
   "source": [
    "# カラムa確認\n",
    "train.columns"
   ]
  },
  {
   "cell_type": "code",
   "execution_count": null,
   "metadata": {
    "ExecuteTime": {
     "end_time": "2019-04-17T08:20:03.419569Z",
     "start_time": "2019-04-17T08:20:03.344569Z"
    }
   },
   "outputs": [],
   "source": [
    "# 先頭データ\n",
    "train.head()"
   ]
  },
  {
   "cell_type": "code",
   "execution_count": null,
   "metadata": {
    "ExecuteTime": {
     "end_time": "2019-04-17T08:20:03.550569Z",
     "start_time": "2019-04-17T08:20:03.431569Z"
    }
   },
   "outputs": [],
   "source": [
    "# 特徴量の列記録\n",
    "Feature_columns = [\"cylinders\", \"displacement\", \"horsepower\",\n",
    "                   \"weight\", \"model year\"]"
   ]
  },
  {
   "cell_type": "markdown",
   "metadata": {},
   "source": [
    "# 学習用前処理"
   ]
  },
  {
   "cell_type": "code",
   "execution_count": null,
   "metadata": {
    "ExecuteTime": {
     "end_time": "2019-04-17T08:20:03.684569Z",
     "start_time": "2019-04-17T08:20:03.554569Z"
    }
   },
   "outputs": [],
   "source": [
    "train.drop(columns=[\"Unnamed: 0\"], inplace=True)"
   ]
  },
  {
   "cell_type": "code",
   "execution_count": null,
   "metadata": {
    "ExecuteTime": {
     "end_time": "2019-04-17T08:20:03.796569Z",
     "start_time": "2019-04-17T08:20:03.692569Z"
    }
   },
   "outputs": [],
   "source": [
    "# データの分割\n",
    "X_train, X_test, y_train, y_test = train_test_split(\n",
    "    train[Feature_columns], train.mpg, random_state=0)"
   ]
  },
  {
   "cell_type": "markdown",
   "metadata": {
    "ExecuteTime": {
     "end_time": "2019-04-17T03:37:52.808755Z",
     "start_time": "2019-04-17T03:37:52.792155Z"
    }
   },
   "source": [
    "## ホールドアウトデータ確認"
   ]
  },
  {
   "cell_type": "code",
   "execution_count": null,
   "metadata": {
    "ExecuteTime": {
     "end_time": "2019-04-17T08:20:03.891569Z",
     "start_time": "2019-04-17T08:20:03.800569Z"
    }
   },
   "outputs": [],
   "source": [
    "#　学習用 説明変数データ\n",
    "X_train.head()"
   ]
  },
  {
   "cell_type": "code",
   "execution_count": null,
   "metadata": {
    "ExecuteTime": {
     "end_time": "2019-04-17T08:20:04.041569Z",
     "start_time": "2019-04-17T08:20:03.901569Z"
    }
   },
   "outputs": [],
   "source": [
    "#　学習用 目的変数データ\n",
    "y_train.head()"
   ]
  },
  {
   "cell_type": "code",
   "execution_count": null,
   "metadata": {
    "ExecuteTime": {
     "end_time": "2019-04-17T08:20:04.140569Z",
     "start_time": "2019-04-17T08:20:04.059569Z"
    }
   },
   "outputs": [],
   "source": [
    "#　テスト用 説明変数データ\n",
    "X_test.head()"
   ]
  },
  {
   "cell_type": "code",
   "execution_count": null,
   "metadata": {
    "ExecuteTime": {
     "end_time": "2019-04-17T08:20:04.253769Z",
     "start_time": "2019-04-17T08:20:04.151569Z"
    }
   },
   "outputs": [],
   "source": [
    "#　テスト用 目的変数データ\n",
    "y_test.head()"
   ]
  },
  {
   "cell_type": "markdown",
   "metadata": {},
   "source": [
    "# 予測"
   ]
  },
  {
   "cell_type": "markdown",
   "metadata": {},
   "source": [
    "## 評価指標"
   ]
  },
  {
   "cell_type": "markdown",
   "metadata": {},
   "source": [
    "[tips]\n",
    "\n",
    "- 二乗平均平方根誤差 RMSE\n",
    "\n",
    "RMSE は、root mean squared error の略で、回帰モデルの誤差を評価する指標の一つである。RMSE は、観測値を yi (i = 1, 2, 3, ..., n)、モデルから計算した計算値（予測値）を yi^ とすると、次の式によって定義される。観測値と計算値（予測値）が近づくほど、RMSE は小さくなる。\n",
    "\n",
    "- 平均絶対誤差 MAE\n",
    "\n",
    "MAE は、mean absolute error の略で、、観測値を yi (i = 1, 2, 3, ..., n)、モデルから計算した計算値（予測値）を yi^ とすると、次の式によって定義される。観測値と計算値（予測値）が近づくほど、MAE は小さくなる。MAE は、誤差を二乗していないので、外れ値の影響を受けにくいと言われている。\n",
    "\n",
    "- 決定係数 R2\n",
    "\n",
    "決定係数は、観測値を yi (i = 1, 2, 3, ..., n)、モデルから計算した計算値（予測値）を yi^、観測値の平均を y¯ とすると、次の式によって定義される（他の定義方法も存在する）。観測値とモデルから計算した計算値（予測値）がほぼ同じになると、次式の分子が 0 に近づくため、R2 は 1 に近づく。逆に、観測値と予測値がかけ離れていると、分子が大きな値となり、R2 は 1 から離れた値となる。\n"
   ]
  },
  {
   "cell_type": "markdown",
   "metadata": {},
   "source": [
    "## 各モデルで予想"
   ]
  },
  {
   "cell_type": "code",
   "execution_count": null,
   "metadata": {
    "ExecuteTime": {
     "end_time": "2019-04-17T08:20:04.303769Z",
     "start_time": "2019-04-17T08:20:04.253769Z"
    }
   },
   "outputs": [],
   "source": [
    "K=5"
   ]
  },
  {
   "cell_type": "code",
   "execution_count": null,
   "metadata": {},
   "outputs": [],
   "source": [
    "y_train_pred = []\n",
    "y_test_pred = []\n",
    "best_y_train_pred = []\n",
    "best_y_test_pred = []"
   ]
  },
  {
   "cell_type": "code",
   "execution_count": null,
   "metadata": {},
   "outputs": [],
   "source": [
    "def predict(model, cv_model, model_name):\n",
    "    \n",
    "    results = []\n",
    "    \n",
    "    # 初期モデル\n",
    "    \n",
    "    # 予測\n",
    "    y_train_pred = model.predict(X_train)\n",
    "    y_test_pred = model.predict(X_test)\n",
    "    \n",
    "    # 精度(RMSE)\n",
    "    results.append(model_name)\n",
    "    results.append(np.sqrt(mean_squared_error(y_test,  y_test_pred)))\n",
    "    results.append(math.sqrt(abs(cross_val_score(model,\n",
    "                                                 X=train[Feature_columns], \n",
    "                                                 y=train.mpg, \n",
    "                                                 cv=KFold(n_splits=K, shuffle=True), \n",
    "                                                 scoring='neg_mean_squared_error'\n",
    "                                                ).mean())))\n",
    "    results.append(math.sqrt(abs(cross_val_score(cv_model,\n",
    "                                                 X=train[Feature_columns], \n",
    "                                                 y=train.mpg, \n",
    "                                                 cv=KFold(n_splits=K, shuffle=True), \n",
    "                                                 scoring='neg_mean_squared_error'\n",
    "                                                 ).mean())))\n",
    "    \n",
    "    # ベストモデル\n",
    "    # 学習\n",
    "    cv_model.fit(X_train, y_train)\n",
    "\n",
    "    # best estimator\n",
    "    best_model = cv_model.best_estimator_\n",
    "\n",
    "    # 予測\n",
    "    best_y_trein_pred = best_model.predict(X_train)\n",
    "    best_y_test_pred = best_model.predict(X_test)\n",
    "    \n",
    "    # 精度(RMSE)\n",
    "    results.append(np.sqrt(mean_squared_error(y_test,  best_y_test_pred)))\n",
    "    results.append(math.sqrt(abs(cross_val_score(best_model, \n",
    "                                                X=train[Feature_columns], \n",
    "                                                y=train.mpg, \n",
    "                                                cv=KFold(n_splits=K, shuffle=True), \n",
    "                                                scoring='neg_mean_squared_error'\n",
    "                                               ).mean())))\n",
    "    \n",
    "    ret = pd.DataFrame(\n",
    "                    {\"model_name\":[results[0]], \n",
    "                     \"Hold-out\":[results[1]], \n",
    "                     \"Non-nested CV\":[results[2]], \n",
    "                     \"Nested CV\":[results[3]], \n",
    "                     \"Hold-out_best\":[results[4]], \n",
    "                     \"Non-nested CV_best\":[results[5]]\n",
    "                    }\n",
    "    )\n",
    "    return (ret, y_train_pred, y_test_pred, best_y_trein_pred, best_y_test_pred)\n",
    "\n",
    "# 0 初期モデル モデル名\n",
    "# 1 初期モデル スコア　ホールドアウト\n",
    "# 2 初期モデル スコア　Non-Nested Cross Validation\n",
    "# 3 初期モデル スコア　Nested Cross Validation\n",
    "# 4 ベストモデル スコア　ホールドアウト\n",
    "# 5 ベストモデル スコア　Non-Nested Cross Validation"
   ]
  },
  {
   "cell_type": "code",
   "execution_count": null,
   "metadata": {},
   "outputs": [],
   "source": [
    "#predict(rf_model, rf_model_cv, \"r\")\n",
    "(ret, y_train_pred, y_test_pred, best_y_train_pred, best_y_test_pred) = predict(rf_model, rf_model_cv, \"r\")"
   ]
  },
  {
   "cell_type": "markdown",
   "metadata": {},
   "source": [
    "# 予想結果の確認"
   ]
  },
  {
   "cell_type": "markdown",
   "metadata": {
    "ExecuteTime": {
     "end_time": "2019-04-17T05:04:53.046652Z",
     "start_time": "2019-04-17T05:04:53.032651Z"
    }
   },
   "source": [
    "## 評価値"
   ]
  },
  {
   "cell_type": "code",
   "execution_count": null,
   "metadata": {
    "ExecuteTime": {
     "end_time": "2019-04-17T09:43:37.596927Z",
     "start_time": "2019-04-17T09:43:37.581926Z"
    },
    "scrolled": false
   },
   "outputs": [],
   "source": [
    "ret"
   ]
  },
  {
   "cell_type": "markdown",
   "metadata": {
    "ExecuteTime": {
     "end_time": "2019-04-17T05:05:02.999648Z",
     "start_time": "2019-04-17T05:05:02.979646Z"
    }
   },
   "source": [
    "### 残差"
   ]
  },
  {
   "cell_type": "code",
   "execution_count": null,
   "metadata": {
    "ExecuteTime": {
     "end_time": "2019-04-17T09:45:29.395142Z",
     "start_time": "2019-04-17T09:45:26.241433Z"
    },
    "scrolled": true
   },
   "outputs": [],
   "source": [
    "plot_residuals(y_train_pred, y_test_pred)"
   ]
  },
  {
   "cell_type": "code",
   "execution_count": null,
   "metadata": {
    "ExecuteTime": {
     "end_time": "2019-04-17T09:50:58.567020Z",
     "start_time": "2019-04-17T09:50:57.885375Z"
    }
   },
   "outputs": [],
   "source": [
    "plot_residuals(best_y_train_pred, best_y_test_pred)"
   ]
  },
  {
   "cell_type": "markdown",
   "metadata": {},
   "source": [
    "- 用語\n",
    "    - 00データ = 欠損値除去\n",
    "    - 01データ = 外れ値除去\n",
    "\n",
    "- 全般\n",
    "    - 訓練時、テスト時ともに、実際よりも大きく少なく予想してしまうことがある\n",
    "\n",
    "- 00データ\n",
    "    - 全般\n",
    "        - 正規分布的\n",
    "    - 訓練時\n",
    "        - 大きな値（低燃費）ほど控え目な予想をしてはずす\n",
    "    - テスト時\n",
    "        - 低残差の件数が減っている\n",
    "        - 大きな値（低燃費）ほど控え目な予想をしてはずす\n",
    "        - 小さな値（高燃費）ほど強気　な予想をしてはずす\n",
    "    \n",
    "- 01データ\n",
    "    - 全般\n",
    "        - 右寄り（実際よりも小さく予想していることが多い）\n",
    "    - 訓練時\n",
    "        - 大きな値（低燃費）ほど控え目な予想をしてはずす\n",
    "    - テスト時\n",
    "        - 低残差の件数が減っている\n",
    "        - 00のときの「大きな値（低燃費）ほど控え目な予想をしてはずす」はマシになっている\n",
    "        - 00のときの「小さな値（高燃費）ほど強気　な予想をしてはずす」はマシになっている"
   ]
  },
  {
   "cell_type": "markdown",
   "metadata": {},
   "source": [
    "### レコードチェック"
   ]
  },
  {
   "cell_type": "code",
   "execution_count": null,
   "metadata": {},
   "outputs": [],
   "source": [
    "X_train_ret = X_train.copy()\n",
    "X_train_ret['pred'] = best_y_train_pred\n",
    "X_train_ret['mpg'] = y_train\n",
    "X_train_ret['residuals'] = X_train_ret.mpg - X_train_ret.pred\n",
    "X_train_ret.head()"
   ]
  },
  {
   "cell_type": "code",
   "execution_count": null,
   "metadata": {},
   "outputs": [],
   "source": [
    "X_test_ret = X_test.copy()\n",
    "X_test_ret['pred'] = best_y_test_pred\n",
    "X_test_ret['mpg'] = y_test\n",
    "X_test_ret['residuals'] = X_test_ret.mpg - X_test_ret.pred\n",
    "X_test_ret.head()"
   ]
  },
  {
   "cell_type": "markdown",
   "metadata": {},
   "source": [
    "# 退避"
   ]
  },
  {
   "cell_type": "markdown",
   "metadata": {},
   "source": [
    "## 精度平均"
   ]
  },
  {
   "cell_type": "code",
   "execution_count": null,
   "metadata": {},
   "outputs": [],
   "source": [
    "results = pd.DataFrame(columns=[\"model_name\", \"Hold-out\", \"Non-nested CV\", \"Nested CV\", \"Hold-out_best\", \"Non-nested CV_best\"])"
   ]
  },
  {
   "cell_type": "code",
   "execution_count": null,
   "metadata": {},
   "outputs": [],
   "source": [
    "# ループで何度か実行し、スコアの推移を確認\n",
    "for i in range(0, 5):\n",
    "    (ret, y_train_pred, y_test_pred, best_y_train_pred, best_y_test_pred) = predict(rf_model, rf_model_cv, \"r\")\n",
    "    results = results.append(ret)\n",
    "results"
   ]
  },
  {
   "cell_type": "code",
   "execution_count": null,
   "metadata": {},
   "outputs": [],
   "source": [
    "results.mean()"
   ]
  },
  {
   "cell_type": "markdown",
   "metadata": {},
   "source": [
    "# 考察"
   ]
  },
  {
   "cell_type": "markdown",
   "metadata": {},
   "source": [
    "## 比較対象として、4/14時点のランキングデータ"
   ]
  },
  {
   "cell_type": "markdown",
   "metadata": {},
   "source": [
    "\n",
    "- 投稿：1555件\n",
    "- 参加：428人\n",
    "- スコア\n",
    "  - 1位：2.35474 (2019-02-15 21:49:02)\n",
    "  - 5位：2.51207 (2019-02-01 18:48:02)\n",
    "  - 6位：2.57726 (2019-02-01 00:39:02)\n",
    "  - 10位：2.63501 (2019-03-04 02:03:02)\n",
    "  - 40位：2.77689 (2018-08-23 17:26:02)\n",
    "  - 100位：3.15333 (2018-10-05 00:21:02)"
   ]
  },
  {
   "cell_type": "markdown",
   "metadata": {},
   "source": [
    "## 特徴量最適化"
   ]
  },
  {
   "cell_type": "markdown",
   "metadata": {},
   "source": [
    "スコアが 2.664453 なので、およそ15位わるくなった。"
   ]
  },
  {
   "cell_type": "markdown",
   "metadata": {},
   "source": [
    "## 方針"
   ]
  },
  {
   "cell_type": "code",
   "execution_count": null,
   "metadata": {},
   "outputs": [],
   "source": []
  }
 ],
 "metadata": {
  "kernelspec": {
   "display_name": "Python 3",
   "language": "python",
   "name": "python3"
  },
  "language_info": {
   "codemirror_mode": {
    "name": "ipython",
    "version": 3
   },
   "file_extension": ".py",
   "mimetype": "text/x-python",
   "name": "python",
   "nbconvert_exporter": "python",
   "pygments_lexer": "ipython3",
   "version": "3.6.5"
  },
  "toc": {
   "base_numbering": 1,
   "nav_menu": {},
   "number_sections": true,
   "sideBar": true,
   "skip_h1_title": false,
   "title_cell": "Table of Contents",
   "title_sidebar": "Contents",
   "toc_cell": false,
   "toc_position": {
    "height": "calc(100% - 180px)",
    "left": "10px",
    "top": "150px",
    "width": "246px"
   },
   "toc_section_display": true,
   "toc_window_display": true
  }
 },
 "nbformat": 4,
 "nbformat_minor": 2
}
