{
 "cells": [
  {
   "cell_type": "markdown",
   "metadata": {},
   "source": [
    "# 準備"
   ]
  },
  {
   "cell_type": "code",
   "execution_count": null,
   "metadata": {
    "ExecuteTime": {
     "end_time": "2019-04-17T08:12:02.861375Z",
     "start_time": "2019-04-17T08:12:02.839375Z"
    }
   },
   "outputs": [],
   "source": [
    "import numpy as np\n",
    "import pandas as pd\n",
    "import matplotlib.pyplot as plt\n",
    "%matplotlib inline\n",
    "\n",
    "FILE_SAVE = True\n",
    "DEFAULT_COLOR = '#1f77b4'"
   ]
  },
  {
   "cell_type": "code",
   "execution_count": null,
   "metadata": {
    "ExecuteTime": {
     "end_time": "2019-04-17T08:12:02.875375Z",
     "start_time": "2019-04-17T08:12:02.866375Z"
    }
   },
   "outputs": [],
   "source": [
    "from sklearn.model_selection import train_test_split\n",
    "from sklearn.model_selection import cross_val_score, KFold\n",
    "from sklearn.model_selection import GridSearchCV\n",
    "from sklearn.ensemble import RandomForestRegressor\n",
    "from multiprocessing import cpu_count\n",
    "import math\n",
    "import pickle"
   ]
  },
  {
   "cell_type": "code",
   "execution_count": null,
   "metadata": {
    "ExecuteTime": {
     "end_time": "2019-04-17T08:12:03.206375Z",
     "start_time": "2019-04-17T08:12:02.881375Z"
    }
   },
   "outputs": [],
   "source": [
    "train = pd.read_csv(\"./data/train_processed_00.csv\")"
   ]
  },
  {
   "cell_type": "code",
   "execution_count": null,
   "metadata": {
    "ExecuteTime": {
     "end_time": "2019-04-17T08:12:03.215375Z",
     "start_time": "2019-04-17T08:12:03.210375Z"
    }
   },
   "outputs": [],
   "source": [
    "MODEL_NAME_RF    = \"./data/rf_model_00.sav\"\n",
    "MODEL_NAME_RF_CV = \"./data/rf_model_cv_00.sav\""
   ]
  },
  {
   "cell_type": "markdown",
   "metadata": {},
   "source": [
    "## 実行条件"
   ]
  },
  {
   "cell_type": "code",
   "execution_count": null,
   "metadata": {
    "ExecuteTime": {
     "end_time": "2019-04-17T08:12:03.325375Z",
     "start_time": "2019-04-17T08:12:03.219375Z"
    }
   },
   "outputs": [],
   "source": [
    "# 可視化結果を保存するかどうか\n",
    "FILE_SAVE_FLAG = False\n",
    "\n",
    "# デバッグコードを表示するかどうか\n",
    "DEBUG = False"
   ]
  },
  {
   "cell_type": "markdown",
   "metadata": {},
   "source": [
    "# データ確認"
   ]
  },
  {
   "cell_type": "code",
   "execution_count": null,
   "metadata": {
    "ExecuteTime": {
     "end_time": "2019-04-17T08:12:03.514375Z",
     "start_time": "2019-04-17T08:12:03.329375Z"
    }
   },
   "outputs": [],
   "source": [
    "# 先頭データ\n",
    "train.head()"
   ]
  },
  {
   "cell_type": "code",
   "execution_count": null,
   "metadata": {
    "ExecuteTime": {
     "end_time": "2019-04-17T08:12:03.828375Z",
     "start_time": "2019-04-17T08:12:03.598375Z"
    }
   },
   "outputs": [],
   "source": [
    "# カラム確認\n",
    "train.columns"
   ]
  },
  {
   "cell_type": "code",
   "execution_count": null,
   "metadata": {
    "ExecuteTime": {
     "end_time": "2019-04-17T08:12:04.068375Z",
     "start_time": "2019-04-17T08:12:03.835375Z"
    }
   },
   "outputs": [],
   "source": [
    "# 特徴量の列記録\n",
    "Feature_columns = [\"cylinders\", \"displacement\", \"horsepower\",\n",
    "                   \"weight\", \"acceleration\", \"model year\", \"origin\"]"
   ]
  },
  {
   "cell_type": "markdown",
   "metadata": {},
   "source": [
    "# 学習用前処理"
   ]
  },
  {
   "cell_type": "code",
   "execution_count": null,
   "metadata": {
    "ExecuteTime": {
     "end_time": "2019-04-17T08:12:04.230375Z",
     "start_time": "2019-04-17T08:12:04.130375Z"
    }
   },
   "outputs": [],
   "source": [
    "# 不要列削除\n",
    "train.drop(columns=[\"Unnamed: 0\"], inplace=True)"
   ]
  },
  {
   "cell_type": "code",
   "execution_count": null,
   "metadata": {
    "ExecuteTime": {
     "end_time": "2019-04-17T08:12:04.353375Z",
     "start_time": "2019-04-17T08:12:04.238375Z"
    }
   },
   "outputs": [],
   "source": [
    "# データの分割\n",
    "X_train, X_test, y_train, y_test = train_test_split(\n",
    "    train[Feature_columns], train.mpg, random_state=0)"
   ]
  },
  {
   "cell_type": "markdown",
   "metadata": {},
   "source": [
    "# 学習"
   ]
  },
  {
   "cell_type": "code",
   "execution_count": null,
   "metadata": {
    "ExecuteTime": {
     "end_time": "2019-04-17T08:12:04.586375Z",
     "start_time": "2019-04-17T08:12:04.355375Z"
    }
   },
   "outputs": [],
   "source": [
    "rf_model = RandomForestRegressor(random_state=0, n_estimators=80)\n",
    "rf_model.fit(X_train, y_train)"
   ]
  },
  {
   "cell_type": "markdown",
   "metadata": {},
   "source": [
    "## 重要度"
   ]
  },
  {
   "cell_type": "code",
   "execution_count": null,
   "metadata": {
    "ExecuteTime": {
     "end_time": "2019-04-17T08:12:04.689375Z",
     "start_time": "2019-04-17T08:12:04.593375Z"
    }
   },
   "outputs": [],
   "source": [
    "# 重要度、累積比をDF化\n",
    "rf_reg_df = pd.DataFrame(\n",
    "                    data=rf_model.feature_importances_,\n",
    "                    index=Feature_columns, \n",
    "                    columns=[\"importance\"]\n",
    "            )\n",
    "rf_reg_df.sort_values(\"importance\", ascending=False, inplace=True)\n",
    "rf_reg_df['imp_cumsum'] = rf_reg_df.importance.cumsum()*100\n",
    "rf_reg_df"
   ]
  },
  {
   "cell_type": "code",
   "execution_count": null,
   "metadata": {
    "ExecuteTime": {
     "end_time": "2019-04-17T08:12:05.338761Z",
     "start_time": "2019-04-17T08:12:04.692375Z"
    }
   },
   "outputs": [],
   "source": [
    "# 特徴量の重要度 Feature Importance\n",
    "fig = plt.figure()\n",
    "ax1 = fig.add_subplot(111)\n",
    "ax2 = ax1.twinx()\n",
    "\n",
    "plt.title(\"feature importance\")\n",
    "ax1.set_xticklabels(Feature_columns, rotation=45, ha=\"right\")\n",
    "ax1.set_ylim([0, 1])\n",
    "ax1.bar(rf_reg_df.index, rf_reg_df.importance)\n",
    "\n",
    "ax2.set_ylim([0, 100])\n",
    "ax2.plot(rf_reg_df.index, rf_reg_df.imp_cumsum, c='r')"
   ]
  },
  {
   "cell_type": "markdown",
   "metadata": {},
   "source": [
    "# ハイパーパラメータ選定のための交差検証"
   ]
  },
  {
   "cell_type": "code",
   "execution_count": null,
   "metadata": {
    "ExecuteTime": {
     "end_time": "2019-04-17T08:12:05.353761Z",
     "start_time": "2019-04-17T08:12:05.338761Z"
    }
   },
   "outputs": [],
   "source": [
    "# 検証対象ハイパーパラメータ\n",
    "K = 5                                       # 分割数、交差検定の回数\n",
    "grid_param = {\n",
    "    'n_estimators': [20, 40, 80, 100, 120], # 決定木の数\n",
    "    'max_depth': [4, 8, 16]                 # 木の深さ\n",
    "    #    'num_leaves':[31,15,7,3],          #\n",
    "    #    'learning_rate':[0.1,0.05,0.01]    #\n",
    "}"
   ]
  },
  {
   "cell_type": "code",
   "execution_count": null,
   "metadata": {
    "ExecuteTime": {
     "end_time": "2019-04-17T08:12:05.434761Z",
     "start_time": "2019-04-17T08:12:05.360761Z"
    }
   },
   "outputs": [],
   "source": [
    "# モデル作成\n",
    "model = RandomForestRegressor(random_state=1)\n",
    "rf_grid = GridSearchCV(\n",
    "    estimator=model,                    # モデル\n",
    "    param_grid=grid_param,              # 最適化したいパラメータセット\n",
    "    cv=KFold(n_splits=K, shuffle=True), # 交差検定の回数\n",
    "    scoring='neg_mean_squared_error',   # 評価方法\n",
    "    n_jobs=cpu_count()                  # number of core\n",
    ")"
   ]
  },
  {
   "cell_type": "markdown",
   "metadata": {},
   "source": [
    "# モデル保管"
   ]
  },
  {
   "cell_type": "code",
   "execution_count": null,
   "metadata": {
    "ExecuteTime": {
     "end_time": "2019-04-17T08:12:05.569759Z",
     "start_time": "2019-04-17T08:12:05.437761Z"
    }
   },
   "outputs": [],
   "source": [
    "if FILE_SAVE:\n",
    "    pickle.dump(rf_model, open(MODEL_NAME_RF, 'wb'))\n",
    "    pickle.dump(rf_grid,  open(MODEL_NAME_RF_CV, 'wb'))\n",
    "    #pickle.dump(tree_grid_best, open(MODEL_NAME_RF_BEST, 'wb'))"
   ]
  },
  {
   "cell_type": "markdown",
   "metadata": {
    "ExecuteTime": {
     "end_time": "2019-04-17T05:01:37.274077Z",
     "start_time": "2019-04-17T05:01:37.228072Z"
    }
   },
   "source": [
    "# (参考)ベストモデル"
   ]
  },
  {
   "cell_type": "markdown",
   "metadata": {
    "ExecuteTime": {
     "end_time": "2019-04-17T05:43:40.709418Z",
     "start_time": "2019-04-17T05:43:40.695417Z"
    }
   },
   "source": [
    "## 学習"
   ]
  },
  {
   "cell_type": "code",
   "execution_count": null,
   "metadata": {
    "ExecuteTime": {
     "end_time": "2019-04-17T08:12:14.533133Z",
     "start_time": "2019-04-17T08:12:05.569759Z"
    }
   },
   "outputs": [],
   "source": [
    "# 学習\n",
    "rf_grid.fit(X_train, y_train)\n",
    "\n",
    "# best estimator\n",
    "tree_grid_best = rf_grid.best_estimator_"
   ]
  },
  {
   "cell_type": "markdown",
   "metadata": {
    "ExecuteTime": {
     "end_time": "2019-04-17T05:02:37.501099Z",
     "start_time": "2019-04-17T05:02:37.491098Z"
    }
   },
   "source": [
    "## 評価値"
   ]
  },
  {
   "cell_type": "code",
   "execution_count": null,
   "metadata": {
    "ExecuteTime": {
     "end_time": "2019-04-17T08:12:14.580932Z",
     "start_time": "2019-04-17T08:12:14.533133Z"
    }
   },
   "outputs": [],
   "source": [
    "print(\"Best Model Parameter: \", rf_grid.best_params_)\n",
    "print(\"Best Model Score    : \", math.sqrt(abs(rf_grid.best_score_)))"
   ]
  },
  {
   "cell_type": "markdown",
   "metadata": {},
   "source": [
    "## 重要度"
   ]
  },
  {
   "cell_type": "code",
   "execution_count": null,
   "metadata": {
    "ExecuteTime": {
     "end_time": "2019-04-17T08:12:14.783328Z",
     "start_time": "2019-04-17T08:12:14.582932Z"
    }
   },
   "outputs": [],
   "source": [
    "# 重要度、累積比をDF化\n",
    "rf_reg_cv_df = pd.DataFrame(data=tree_grid_best.feature_importances_,\n",
    "                         index=Feature_columns, columns=[\"importance\"])\n",
    "rf_reg_cv_df.sort_values(\"importance\", ascending=False, inplace=True)\n",
    "rf_reg_cv_df['imp_cumsum'] = rf_reg_cv_df.importance.cumsum()*100\n",
    "rf_reg_cv_df"
   ]
  },
  {
   "cell_type": "code",
   "execution_count": null,
   "metadata": {
    "ExecuteTime": {
     "end_time": "2019-04-17T08:12:15.469318Z",
     "start_time": "2019-04-17T08:12:14.786328Z"
    }
   },
   "outputs": [],
   "source": [
    "# 特徴量の重要度 Feature Importance\n",
    "fig = plt.figure(figsize=(15, 5))\n",
    "\n",
    "ax1 = fig.add_subplot(121)\n",
    "ax2 = ax1.twinx()\n",
    "plt.title(\"[best estimator]feature importance\")\n",
    "ax1.set_xticklabels(Feature_columns, rotation=45, ha=\"right\")\n",
    "ax1.set_ylim([0, 1])\n",
    "ax1.bar(rf_reg_cv_df.index, rf_reg_cv_df.importance)\n",
    "ax2.set_ylim([0, 100])\n",
    "ax2.plot(rf_reg_cv_df.index, rf_reg_cv_df.imp_cumsum, c='r')\n",
    "\n",
    "\n",
    "ax1 = fig.add_subplot(122)\n",
    "ax2 = ax1.twinx()\n",
    "plt.title(\"[first estimator]feature importance\")\n",
    "ax1.set_xticklabels(Feature_columns, rotation=45, ha=\"right\")\n",
    "ax1.set_ylim([0, 1])\n",
    "ax1.bar(rf_reg_df.index, rf_reg_df.importance)\n",
    "ax2.set_ylim([0, 100])\n",
    "ax2.plot(rf_reg_df.index, rf_reg_df.imp_cumsum, c='r')"
   ]
  }
 ],
 "metadata": {
  "kernelspec": {
   "display_name": "Python 3",
   "language": "python",
   "name": "python3"
  },
  "language_info": {
   "codemirror_mode": {
    "name": "ipython",
    "version": 3
   },
   "file_extension": ".py",
   "mimetype": "text/x-python",
   "name": "python",
   "nbconvert_exporter": "python",
   "pygments_lexer": "ipython3",
   "version": "3.6.5"
  },
  "toc": {
   "base_numbering": 1,
   "nav_menu": {},
   "number_sections": true,
   "sideBar": true,
   "skip_h1_title": false,
   "title_cell": "Table of Contents",
   "title_sidebar": "Contents",
   "toc_cell": false,
   "toc_position": {
    "height": "calc(100% - 180px)",
    "left": "10px",
    "top": "150px",
    "width": "258px"
   },
   "toc_section_display": true,
   "toc_window_display": true
  }
 },
 "nbformat": 4,
 "nbformat_minor": 2
}
