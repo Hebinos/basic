{
 "cells": [
  {
   "cell_type": "markdown",
   "metadata": {},
   "source": [
    "# 準備"
   ]
  },
  {
   "cell_type": "code",
   "execution_count": 1,
   "metadata": {
    "ExecuteTime": {
     "end_time": "2019-05-04T03:11:10.882606Z",
     "start_time": "2019-05-04T03:11:03.876028Z"
    }
   },
   "outputs": [],
   "source": [
    "import numpy as np\n",
    "import pandas as pd\n",
    "import matplotlib.pyplot as plt\n",
    "%matplotlib inline\n",
    "\n",
    "FILE_SAVE = False\n",
    "DEFAULT_COLOR = '#1f77b4'"
   ]
  },
  {
   "cell_type": "code",
   "execution_count": 2,
   "metadata": {
    "ExecuteTime": {
     "end_time": "2019-05-04T03:11:15.774959Z",
     "start_time": "2019-05-04T03:11:10.895602Z"
    }
   },
   "outputs": [],
   "source": [
    "from sklearn.model_selection import train_test_split\n",
    "from sklearn.metrics import mean_squared_error\n",
    "from sklearn.metrics import r2_score\n",
    "from sklearn.model_selection import cross_val_score, KFold\n",
    "import pickle\n",
    "import math"
   ]
  },
  {
   "cell_type": "code",
   "execution_count": 3,
   "metadata": {
    "ExecuteTime": {
     "end_time": "2019-05-04T03:11:15.963961Z",
     "start_time": "2019-05-04T03:11:15.780966Z"
    }
   },
   "outputs": [],
   "source": [
    "train = pd.read_csv(\"./data/train_processed_00.csv\")"
   ]
  },
  {
   "cell_type": "code",
   "execution_count": 4,
   "metadata": {
    "ExecuteTime": {
     "end_time": "2019-05-04T03:11:16.563716Z",
     "start_time": "2019-05-04T03:11:15.963961Z"
    }
   },
   "outputs": [],
   "source": [
    "rf_model      = pickle.load(open(\"./data/rf_model_00.sav\", 'rb'))\n",
    "rf_model_cv = pickle.load(open(\"./data/rf_model_cv_00.sav\", 'rb'))"
   ]
  },
  {
   "cell_type": "code",
   "execution_count": 5,
   "metadata": {
    "ExecuteTime": {
     "end_time": "2019-05-04T03:11:16.588710Z",
     "start_time": "2019-05-04T03:11:16.579713Z"
    }
   },
   "outputs": [],
   "source": [
    "#model_list = [rf_model_0, rf_model_best_0, rf_model_1, rf_model_best_1]\n",
    "#model_names = [\"rf_model_0\", \"rf_model_best_0\", \"rf_model_1\", \"rf_model_best_1\"]\n",
    "\n",
    "model_list = [rf_model]\n",
    "model_names = [\"rf_model_00\"]\n",
    "\n",
    "cv_model_list = [rf_model_cv]\n",
    "best_model_names = [\"rf_model_best_00\"]"
   ]
  },
  {
   "cell_type": "markdown",
   "metadata": {
    "ExecuteTime": {
     "end_time": "2019-04-17T06:18:49.325743Z",
     "start_time": "2019-04-17T06:18:49.305743Z"
    }
   },
   "source": [
    "## 可視化関数"
   ]
  },
  {
   "cell_type": "code",
   "execution_count": 6,
   "metadata": {
    "ExecuteTime": {
     "end_time": "2019-05-04T03:11:16.622713Z",
     "start_time": "2019-05-04T03:11:16.596711Z"
    }
   },
   "outputs": [],
   "source": [
    "def plot_residuals(y_train_pred, y_test_pred):\n",
    "    # 赤線に近いほど残差が少ない\n",
    "    \n",
    "    fig = plt.figure(figsize = (21, 5))\n",
    "\n",
    "    # 予想値と残差収束\n",
    "    ax = fig.add_subplot(131)\n",
    "    ax.scatter(y_train_pred, y_train_pred - y_train, c = 'black', marker = 'o', s = 35, alpha = 0.5, label = 'Training data')\n",
    "    ax.scatter(y_test_pred, y_test_pred - y_test, c = 'lightgreen', marker = 's', s = 35, alpha = 0.7, label = 'Test data')\n",
    "    ax.set_xlabel('Predicted values')\n",
    "    ax.set_ylabel('Residuals')\n",
    "    ax.legend(loc = 'upper left')\n",
    "    ax.hlines(y = 0, xmin = -10, xmax = 50, lw = 2, color = 'red')\n",
    "    ax.set_xlim([-10, 50])\n",
    "\n",
    "    # 実値と残差収束\n",
    "    ax = fig.add_subplot(132)\n",
    "    ax.scatter(y_train, y_train_pred - y_train, c = 'black', marker = 'o', s = 35, alpha = 0.5, label = 'Training data')\n",
    "    ax.scatter(y_test, y_test_pred - y_test, c = 'lightgreen', marker = 's', s = 35, alpha = 0.7, label = 'Test data')\n",
    "    ax.set_xlabel('Real values')\n",
    "    ax.set_ylabel('Residuals')\n",
    "    ax.legend(loc = 'upper left')\n",
    "    ax.hlines(y = 0, xmin = -10, xmax = 50, lw = 2, color = 'red')\n",
    "    ax.set_xlim([-10, 50])\n",
    "\n",
    "    # 残差ヒストグラム\n",
    "    ax = fig.add_subplot(133)\n",
    "    ax.hist(y_train_pred - y_train, color = 'black', alpha=0.3)\n",
    "    ax.hist( y_test_pred - y_test, color = 'lightgreen', alpha=0.3)"
   ]
  },
  {
   "cell_type": "code",
   "execution_count": 7,
   "metadata": {
    "ExecuteTime": {
     "end_time": "2019-05-04T03:11:16.668711Z",
     "start_time": "2019-05-04T03:11:16.644710Z"
    }
   },
   "outputs": [],
   "source": [
    "def plot_residuals2(y_train_pred, y_test_pred):\n",
    "    # 赤線に近いほど残差が少ない\n",
    "\n",
    "    fig = plt.figure(figsize = (14, 10))\n",
    "\n",
    "    # 予想値と残差収束\n",
    "    ax = fig.add_subplot(221)\n",
    "    ax.scatter(y_train_pred, y_train_pred - y_train, c = 'black', marker = 'o', s = 35, alpha = 0.5, label = 'Training data')\n",
    "    ax.scatter(y_test_pred, y_test_pred - y_test, c = 'lightgreen', marker = 's', s = 35, alpha = 0.7, label = 'Test data')\n",
    "    ax.set_xlabel('Predicted values')\n",
    "    ax.set_ylabel('Residuals')\n",
    "    ax.legend(loc = 'upper left')\n",
    "    ax.hlines(y = 0, xmin = -10, xmax = 50, lw = 2, color = 'red')\n",
    "    ax.set_xlim([-10, 50])\n",
    "\n",
    "    # 実値と残差収束\n",
    "    ax = fig.add_subplot(222)\n",
    "    ax.scatter(y_train, y_train_pred - y_train, c = 'black', marker = 'o', s = 35, alpha = 0.5, label = 'Training data')\n",
    "    ax.scatter(y_test, y_test_pred - y_test, c = 'lightgreen', marker = 's', s = 35, alpha = 0.7, label = 'Test data')\n",
    "    ax.set_xlabel('Real values')\n",
    "    ax.set_ylabel('Residuals')\n",
    "    ax.legend(loc = 'upper left')\n",
    "    ax.hlines(y = 0, xmin = -10, xmax = 50, lw = 2, color = 'red')\n",
    "    ax.set_xlim([-10, 50])\n",
    "\n",
    "    # 残差ヒストグラム\n",
    "    ax = fig.add_subplot(223)\n",
    "    ax.hist(y_train_pred - y_train, color = 'black', alpha=0.3)\n",
    "    ax.hist( y_test_pred - y_test, color = 'lightgreen', alpha=0.3)\n",
    "\n",
    "    # 実際の値\n",
    "    ax = fig.add_subplot(224)\n",
    "    ax.scatter(y_train, y_train_pred, c = 'black', marker = 'o', s = 35, alpha = 0.5, label = 'Training data')\n",
    "    ax.scatter(y_test, y_test_pred, c = 'lightgreen', marker = 's', s = 35, alpha = 0.7, label = 'Test data')\n",
    "    ax.plot(y_test, y_test, c=\"r\")\n",
    "    ax.set_xlabel('Real')\n",
    "    ax.set_ylabel('Predict')"
   ]
  },
  {
   "cell_type": "markdown",
   "metadata": {},
   "source": [
    "# データ確認"
   ]
  },
  {
   "cell_type": "code",
   "execution_count": 8,
   "metadata": {
    "ExecuteTime": {
     "end_time": "2019-05-04T03:11:16.708711Z",
     "start_time": "2019-05-04T03:11:16.677713Z"
    }
   },
   "outputs": [
    {
     "data": {
      "text/plain": [
       "Index(['Unnamed: 0', 'id', 'mpg', 'cylinders', 'displacement', 'horsepower',\n",
       "       'weight', 'acceleration', 'model year', 'origin', 'car name'],\n",
       "      dtype='object')"
      ]
     },
     "execution_count": 8,
     "metadata": {},
     "output_type": "execute_result"
    }
   ],
   "source": [
    "# カラムa確認\n",
    "train.columns"
   ]
  },
  {
   "cell_type": "code",
   "execution_count": 9,
   "metadata": {
    "ExecuteTime": {
     "end_time": "2019-05-04T03:11:16.830710Z",
     "start_time": "2019-05-04T03:11:16.725712Z"
    }
   },
   "outputs": [
    {
     "data": {
      "text/html": [
       "<div>\n",
       "<style scoped>\n",
       "    .dataframe tbody tr th:only-of-type {\n",
       "        vertical-align: middle;\n",
       "    }\n",
       "\n",
       "    .dataframe tbody tr th {\n",
       "        vertical-align: top;\n",
       "    }\n",
       "\n",
       "    .dataframe thead th {\n",
       "        text-align: right;\n",
       "    }\n",
       "</style>\n",
       "<table border=\"1\" class=\"dataframe\">\n",
       "  <thead>\n",
       "    <tr style=\"text-align: right;\">\n",
       "      <th></th>\n",
       "      <th>Unnamed: 0</th>\n",
       "      <th>id</th>\n",
       "      <th>mpg</th>\n",
       "      <th>cylinders</th>\n",
       "      <th>displacement</th>\n",
       "      <th>horsepower</th>\n",
       "      <th>weight</th>\n",
       "      <th>acceleration</th>\n",
       "      <th>model year</th>\n",
       "      <th>origin</th>\n",
       "      <th>car name</th>\n",
       "    </tr>\n",
       "  </thead>\n",
       "  <tbody>\n",
       "    <tr>\n",
       "      <th>0</th>\n",
       "      <td>0</td>\n",
       "      <td>0</td>\n",
       "      <td>29.0</td>\n",
       "      <td>4</td>\n",
       "      <td>135.0</td>\n",
       "      <td>84.0</td>\n",
       "      <td>2525.0</td>\n",
       "      <td>16.0</td>\n",
       "      <td>82</td>\n",
       "      <td>1</td>\n",
       "      <td>dodge aries se</td>\n",
       "    </tr>\n",
       "    <tr>\n",
       "      <th>1</th>\n",
       "      <td>1</td>\n",
       "      <td>3</td>\n",
       "      <td>31.9</td>\n",
       "      <td>4</td>\n",
       "      <td>89.0</td>\n",
       "      <td>71.0</td>\n",
       "      <td>1925.0</td>\n",
       "      <td>14.0</td>\n",
       "      <td>79</td>\n",
       "      <td>2</td>\n",
       "      <td>vw rabbit custom</td>\n",
       "    </tr>\n",
       "    <tr>\n",
       "      <th>2</th>\n",
       "      <td>2</td>\n",
       "      <td>9</td>\n",
       "      <td>19.0</td>\n",
       "      <td>6</td>\n",
       "      <td>156.0</td>\n",
       "      <td>108.0</td>\n",
       "      <td>2930.0</td>\n",
       "      <td>15.5</td>\n",
       "      <td>76</td>\n",
       "      <td>3</td>\n",
       "      <td>toyota mark ii</td>\n",
       "    </tr>\n",
       "    <tr>\n",
       "      <th>3</th>\n",
       "      <td>3</td>\n",
       "      <td>11</td>\n",
       "      <td>28.0</td>\n",
       "      <td>4</td>\n",
       "      <td>90.0</td>\n",
       "      <td>75.0</td>\n",
       "      <td>2125.0</td>\n",
       "      <td>14.5</td>\n",
       "      <td>74</td>\n",
       "      <td>1</td>\n",
       "      <td>dodge colt</td>\n",
       "    </tr>\n",
       "    <tr>\n",
       "      <th>4</th>\n",
       "      <td>4</td>\n",
       "      <td>13</td>\n",
       "      <td>37.7</td>\n",
       "      <td>4</td>\n",
       "      <td>89.0</td>\n",
       "      <td>62.0</td>\n",
       "      <td>2050.0</td>\n",
       "      <td>17.3</td>\n",
       "      <td>81</td>\n",
       "      <td>3</td>\n",
       "      <td>toyota tercel</td>\n",
       "    </tr>\n",
       "  </tbody>\n",
       "</table>\n",
       "</div>"
      ],
      "text/plain": [
       "   Unnamed: 0  id   mpg  cylinders  displacement  horsepower  weight  \\\n",
       "0           0   0  29.0          4         135.0        84.0  2525.0   \n",
       "1           1   3  31.9          4          89.0        71.0  1925.0   \n",
       "2           2   9  19.0          6         156.0       108.0  2930.0   \n",
       "3           3  11  28.0          4          90.0        75.0  2125.0   \n",
       "4           4  13  37.7          4          89.0        62.0  2050.0   \n",
       "\n",
       "   acceleration  model year  origin          car name  \n",
       "0          16.0          82       1    dodge aries se  \n",
       "1          14.0          79       2  vw rabbit custom  \n",
       "2          15.5          76       3    toyota mark ii  \n",
       "3          14.5          74       1        dodge colt  \n",
       "4          17.3          81       3     toyota tercel  "
      ]
     },
     "execution_count": 9,
     "metadata": {},
     "output_type": "execute_result"
    }
   ],
   "source": [
    "# 先頭データ\n",
    "train.head()"
   ]
  },
  {
   "cell_type": "code",
   "execution_count": 10,
   "metadata": {
    "ExecuteTime": {
     "end_time": "2019-05-04T03:11:16.846712Z",
     "start_time": "2019-05-04T03:11:16.839712Z"
    }
   },
   "outputs": [],
   "source": [
    "# 特徴量の列記録\n",
    "Feature_columns = [\"cylinders\", \"displacement\", \"horsepower\",\n",
    "                   \"weight\", \"acceleration\", \"model year\", \"origin\"]"
   ]
  },
  {
   "cell_type": "markdown",
   "metadata": {},
   "source": [
    "# 学習用前処理"
   ]
  },
  {
   "cell_type": "code",
   "execution_count": 11,
   "metadata": {
    "ExecuteTime": {
     "end_time": "2019-05-04T03:11:16.881711Z",
     "start_time": "2019-05-04T03:11:16.854712Z"
    }
   },
   "outputs": [],
   "source": [
    "train.drop(columns=[\"Unnamed: 0\"], inplace=True)"
   ]
  },
  {
   "cell_type": "code",
   "execution_count": 12,
   "metadata": {
    "ExecuteTime": {
     "end_time": "2019-05-04T03:11:16.918710Z",
     "start_time": "2019-05-04T03:11:16.890710Z"
    }
   },
   "outputs": [],
   "source": [
    "# データの分割\n",
    "X_train, X_test, y_train, y_test = train_test_split(\n",
    "    train[Feature_columns], train.mpg, random_state=0)"
   ]
  },
  {
   "cell_type": "markdown",
   "metadata": {
    "ExecuteTime": {
     "end_time": "2019-04-17T03:37:52.808755Z",
     "start_time": "2019-04-17T03:37:52.792155Z"
    }
   },
   "source": [
    "## ホールドアウトデータ確認"
   ]
  },
  {
   "cell_type": "code",
   "execution_count": 13,
   "metadata": {
    "ExecuteTime": {
     "end_time": "2019-05-04T03:11:16.978711Z",
     "start_time": "2019-05-04T03:11:16.926712Z"
    }
   },
   "outputs": [
    {
     "data": {
      "text/html": [
       "<div>\n",
       "<style scoped>\n",
       "    .dataframe tbody tr th:only-of-type {\n",
       "        vertical-align: middle;\n",
       "    }\n",
       "\n",
       "    .dataframe tbody tr th {\n",
       "        vertical-align: top;\n",
       "    }\n",
       "\n",
       "    .dataframe thead th {\n",
       "        text-align: right;\n",
       "    }\n",
       "</style>\n",
       "<table border=\"1\" class=\"dataframe\">\n",
       "  <thead>\n",
       "    <tr style=\"text-align: right;\">\n",
       "      <th></th>\n",
       "      <th>cylinders</th>\n",
       "      <th>displacement</th>\n",
       "      <th>horsepower</th>\n",
       "      <th>weight</th>\n",
       "      <th>acceleration</th>\n",
       "      <th>model year</th>\n",
       "      <th>origin</th>\n",
       "    </tr>\n",
       "  </thead>\n",
       "  <tbody>\n",
       "    <tr>\n",
       "      <th>92</th>\n",
       "      <td>6</td>\n",
       "      <td>200.0</td>\n",
       "      <td>85.0</td>\n",
       "      <td>3070.0</td>\n",
       "      <td>16.7</td>\n",
       "      <td>78</td>\n",
       "      <td>1</td>\n",
       "    </tr>\n",
       "    <tr>\n",
       "      <th>185</th>\n",
       "      <td>4</td>\n",
       "      <td>105.0</td>\n",
       "      <td>74.0</td>\n",
       "      <td>1980.0</td>\n",
       "      <td>15.3</td>\n",
       "      <td>82</td>\n",
       "      <td>2</td>\n",
       "    </tr>\n",
       "    <tr>\n",
       "      <th>24</th>\n",
       "      <td>6</td>\n",
       "      <td>200.0</td>\n",
       "      <td>85.0</td>\n",
       "      <td>2990.0</td>\n",
       "      <td>18.2</td>\n",
       "      <td>79</td>\n",
       "      <td>1</td>\n",
       "    </tr>\n",
       "    <tr>\n",
       "      <th>30</th>\n",
       "      <td>6</td>\n",
       "      <td>250.0</td>\n",
       "      <td>100.0</td>\n",
       "      <td>3781.0</td>\n",
       "      <td>17.0</td>\n",
       "      <td>74</td>\n",
       "      <td>1</td>\n",
       "    </tr>\n",
       "    <tr>\n",
       "      <th>109</th>\n",
       "      <td>4</td>\n",
       "      <td>97.0</td>\n",
       "      <td>78.0</td>\n",
       "      <td>2300.0</td>\n",
       "      <td>14.5</td>\n",
       "      <td>74</td>\n",
       "      <td>2</td>\n",
       "    </tr>\n",
       "  </tbody>\n",
       "</table>\n",
       "</div>"
      ],
      "text/plain": [
       "     cylinders  displacement  horsepower  weight  acceleration  model year  \\\n",
       "92           6         200.0        85.0  3070.0          16.7          78   \n",
       "185          4         105.0        74.0  1980.0          15.3          82   \n",
       "24           6         200.0        85.0  2990.0          18.2          79   \n",
       "30           6         250.0       100.0  3781.0          17.0          74   \n",
       "109          4          97.0        78.0  2300.0          14.5          74   \n",
       "\n",
       "     origin  \n",
       "92        1  \n",
       "185       2  \n",
       "24        1  \n",
       "30        1  \n",
       "109       2  "
      ]
     },
     "execution_count": 13,
     "metadata": {},
     "output_type": "execute_result"
    }
   ],
   "source": [
    "#　学習用 説明変数データ\n",
    "X_train.head()"
   ]
  },
  {
   "cell_type": "code",
   "execution_count": 14,
   "metadata": {
    "ExecuteTime": {
     "end_time": "2019-05-04T03:11:17.022713Z",
     "start_time": "2019-05-04T03:11:16.986712Z"
    }
   },
   "outputs": [
    {
     "data": {
      "text/plain": [
       "92     20.8\n",
       "185    36.0\n",
       "24     19.8\n",
       "30     16.0\n",
       "109    26.0\n",
       "Name: mpg, dtype: float64"
      ]
     },
     "execution_count": 14,
     "metadata": {},
     "output_type": "execute_result"
    }
   ],
   "source": [
    "#　学習用 目的変数データ\n",
    "y_train.head()"
   ]
  },
  {
   "cell_type": "code",
   "execution_count": 15,
   "metadata": {
    "ExecuteTime": {
     "end_time": "2019-05-04T03:11:17.066712Z",
     "start_time": "2019-05-04T03:11:17.030712Z"
    }
   },
   "outputs": [
    {
     "data": {
      "text/html": [
       "<div>\n",
       "<style scoped>\n",
       "    .dataframe tbody tr th:only-of-type {\n",
       "        vertical-align: middle;\n",
       "    }\n",
       "\n",
       "    .dataframe tbody tr th {\n",
       "        vertical-align: top;\n",
       "    }\n",
       "\n",
       "    .dataframe thead th {\n",
       "        text-align: right;\n",
       "    }\n",
       "</style>\n",
       "<table border=\"1\" class=\"dataframe\">\n",
       "  <thead>\n",
       "    <tr style=\"text-align: right;\">\n",
       "      <th></th>\n",
       "      <th>cylinders</th>\n",
       "      <th>displacement</th>\n",
       "      <th>horsepower</th>\n",
       "      <th>weight</th>\n",
       "      <th>acceleration</th>\n",
       "      <th>model year</th>\n",
       "      <th>origin</th>\n",
       "    </tr>\n",
       "  </thead>\n",
       "  <tbody>\n",
       "    <tr>\n",
       "      <th>83</th>\n",
       "      <td>8</td>\n",
       "      <td>383.0</td>\n",
       "      <td>170.0</td>\n",
       "      <td>3563.0</td>\n",
       "      <td>10.0</td>\n",
       "      <td>70</td>\n",
       "      <td>1</td>\n",
       "    </tr>\n",
       "    <tr>\n",
       "      <th>12</th>\n",
       "      <td>4</td>\n",
       "      <td>97.0</td>\n",
       "      <td>88.0</td>\n",
       "      <td>2130.0</td>\n",
       "      <td>14.5</td>\n",
       "      <td>70</td>\n",
       "      <td>3</td>\n",
       "    </tr>\n",
       "    <tr>\n",
       "      <th>33</th>\n",
       "      <td>4</td>\n",
       "      <td>121.0</td>\n",
       "      <td>110.0</td>\n",
       "      <td>2660.0</td>\n",
       "      <td>14.0</td>\n",
       "      <td>73</td>\n",
       "      <td>2</td>\n",
       "    </tr>\n",
       "    <tr>\n",
       "      <th>113</th>\n",
       "      <td>4</td>\n",
       "      <td>146.0</td>\n",
       "      <td>67.0</td>\n",
       "      <td>3250.0</td>\n",
       "      <td>21.8</td>\n",
       "      <td>80</td>\n",
       "      <td>2</td>\n",
       "    </tr>\n",
       "    <tr>\n",
       "      <th>171</th>\n",
       "      <td>8</td>\n",
       "      <td>390.0</td>\n",
       "      <td>190.0</td>\n",
       "      <td>3850.0</td>\n",
       "      <td>8.5</td>\n",
       "      <td>70</td>\n",
       "      <td>1</td>\n",
       "    </tr>\n",
       "  </tbody>\n",
       "</table>\n",
       "</div>"
      ],
      "text/plain": [
       "     cylinders  displacement  horsepower  weight  acceleration  model year  \\\n",
       "83           8         383.0       170.0  3563.0          10.0          70   \n",
       "12           4          97.0        88.0  2130.0          14.5          70   \n",
       "33           4         121.0       110.0  2660.0          14.0          73   \n",
       "113          4         146.0        67.0  3250.0          21.8          80   \n",
       "171          8         390.0       190.0  3850.0           8.5          70   \n",
       "\n",
       "     origin  \n",
       "83        1  \n",
       "12        3  \n",
       "33        2  \n",
       "113       2  \n",
       "171       1  "
      ]
     },
     "execution_count": 15,
     "metadata": {},
     "output_type": "execute_result"
    }
   ],
   "source": [
    "#　テスト用 説明変数データ\n",
    "X_test.head()"
   ]
  },
  {
   "cell_type": "code",
   "execution_count": 16,
   "metadata": {
    "ExecuteTime": {
     "end_time": "2019-05-04T03:11:17.102711Z",
     "start_time": "2019-05-04T03:11:17.080713Z"
    }
   },
   "outputs": [
    {
     "data": {
      "text/plain": [
       "83     15.0\n",
       "12     27.0\n",
       "33     24.0\n",
       "113    30.0\n",
       "171    15.0\n",
       "Name: mpg, dtype: float64"
      ]
     },
     "execution_count": 16,
     "metadata": {},
     "output_type": "execute_result"
    }
   ],
   "source": [
    "#　テスト用 目的変数データ\n",
    "y_test.head()"
   ]
  },
  {
   "cell_type": "markdown",
   "metadata": {},
   "source": [
    "# 予測"
   ]
  },
  {
   "cell_type": "markdown",
   "metadata": {},
   "source": [
    "## 評価指標"
   ]
  },
  {
   "cell_type": "markdown",
   "metadata": {},
   "source": [
    "[tips]\n",
    "\n",
    "- 二乗平均平方根誤差 RMSE\n",
    "\n",
    "RMSE は、root mean squared error の略で、回帰モデルの誤差を評価する指標の一つである。RMSE は、観測値を yi (i = 1, 2, 3, ..., n)、モデルから計算した計算値（予測値）を yi^ とすると、次の式によって定義される。観測値と計算値（予測値）が近づくほど、RMSE は小さくなる。\n",
    "\n",
    "- 平均絶対誤差 MAE\n",
    "\n",
    "MAE は、mean absolute error の略で、、観測値を yi (i = 1, 2, 3, ..., n)、モデルから計算した計算値（予測値）を yi^ とすると、次の式によって定義される。観測値と計算値（予測値）が近づくほど、MAE は小さくなる。MAE は、誤差を二乗していないので、外れ値の影響を受けにくいと言われている。\n",
    "\n",
    "- 決定係数 R2\n",
    "\n",
    "決定係数は、観測値を yi (i = 1, 2, 3, ..., n)、モデルから計算した計算値（予測値）を yi^、観測値の平均を y¯ とすると、次の式によって定義される（他の定義方法も存在する）。観測値とモデルから計算した計算値（予測値）がほぼ同じになると、次式の分子が 0 に近づくため、R2 は 1 に近づく。逆に、観測値と予測値がかけ離れていると、分子が大きな値となり、R2 は 1 から離れた値となる。\n"
   ]
  },
  {
   "cell_type": "markdown",
   "metadata": {},
   "source": [
    "## 各モデルで予想"
   ]
  },
  {
   "cell_type": "code",
   "execution_count": 17,
   "metadata": {
    "ExecuteTime": {
     "end_time": "2019-05-04T03:11:17.126712Z",
     "start_time": "2019-05-04T03:11:17.110709Z"
    }
   },
   "outputs": [],
   "source": [
    "K=5"
   ]
  },
  {
   "cell_type": "code",
   "execution_count": 18,
   "metadata": {
    "ExecuteTime": {
     "end_time": "2019-05-04T03:11:17.153710Z",
     "start_time": "2019-05-04T03:11:17.134712Z"
    }
   },
   "outputs": [],
   "source": [
    "y_train_pred = []\n",
    "y_test_pred = []\n",
    "best_y_train_pred = []\n",
    "best_y_test_pred = []"
   ]
  },
  {
   "cell_type": "code",
   "execution_count": 19,
   "metadata": {
    "ExecuteTime": {
     "end_time": "2019-05-04T03:11:17.206711Z",
     "start_time": "2019-05-04T03:11:17.173714Z"
    },
    "scrolled": true
   },
   "outputs": [],
   "source": [
    "def predict(model, cv_model, model_name):\n",
    "    \n",
    "    results = []\n",
    "    \n",
    "    # 初期モデル\n",
    "    \n",
    "    # 予測\n",
    "    y_train_pred = model.predict(X_train)\n",
    "    y_test_pred = model.predict(X_test)\n",
    "    \n",
    "    # 精度(RMSE)\n",
    "    results.append(model_name)\n",
    "    results.append(np.sqrt(mean_squared_error(y_test,  y_test_pred)))\n",
    "    results.append(math.sqrt(abs(cross_val_score(model,\n",
    "                                                 X=train[Feature_columns], \n",
    "                                                 y=train.mpg, \n",
    "                                                 cv=KFold(n_splits=K, shuffle=True), \n",
    "                                                 scoring='neg_mean_squared_error'\n",
    "                                                ).mean())))\n",
    "    results.append(math.sqrt(abs(cross_val_score(cv_model,\n",
    "                                                 X=train[Feature_columns], \n",
    "                                                 y=train.mpg, \n",
    "                                                 cv=KFold(n_splits=K, shuffle=True), \n",
    "                                                 scoring='neg_mean_squared_error'\n",
    "                                                 ).mean())))\n",
    "    \n",
    "    # ベストモデル\n",
    "    # 学習\n",
    "    cv_model.fit(X_train, y_train)\n",
    "\n",
    "    # best estimator\n",
    "    best_model = cv_model.best_estimator_\n",
    "\n",
    "    # 予測\n",
    "    best_y_trein_pred = best_model.predict(X_train)\n",
    "    best_y_test_pred = best_model.predict(X_test)\n",
    "    \n",
    "    # 精度(RMSE)\n",
    "    results.append(np.sqrt(mean_squared_error(y_test,  best_y_test_pred)))\n",
    "    results.append(math.sqrt(abs(cross_val_score(best_model, \n",
    "                                                X=train[Feature_columns], \n",
    "                                                y=train.mpg, \n",
    "                                                cv=KFold(n_splits=K, shuffle=True), \n",
    "                                                scoring='neg_mean_squared_error'\n",
    "                                               ).mean())))\n",
    "    \n",
    "    ret = pd.DataFrame(\n",
    "                    {\"model_name\":[results[0]], \n",
    "                     \"Hold-out\":[results[1]], \n",
    "                     \"Non-nested CV\":[results[2]], \n",
    "                     \"Nested CV\":[results[3]], \n",
    "                     \"Hold-out_best\":[results[4]], \n",
    "                     \"Non-nested CV_best\":[results[5]]\n",
    "                    }\n",
    "    )\n",
    "    return (ret, y_train_pred, y_test_pred, best_y_trein_pred, best_y_test_pred)\n",
    "\n",
    "# 0 初期モデル モデル名\n",
    "# 1 初期モデル スコア　ホールドアウト\n",
    "# 2 初期モデル スコア　Non-Nested Cross Validation\n",
    "# 3 初期モデル スコア　Nested Cross Validation\n",
    "# 4 ベストモデル スコア　ホールドアウト\n",
    "# 5 ベストモデル スコア　Non-Nested Cross Validation"
   ]
  },
  {
   "cell_type": "code",
   "execution_count": 20,
   "metadata": {
    "ExecuteTime": {
     "end_time": "2019-05-04T03:13:05.420660Z",
     "start_time": "2019-05-04T03:11:17.215713Z"
    }
   },
   "outputs": [],
   "source": [
    "#predict(rf_model, rf_model_cv, \"r\")\n",
    "(ret, y_train_pred, y_test_pred, best_y_train_pred, best_y_test_pred) = predict(rf_model, rf_model_cv, \"r\")"
   ]
  },
  {
   "cell_type": "markdown",
   "metadata": {},
   "source": [
    "# 予想結果の確認"
   ]
  },
  {
   "cell_type": "markdown",
   "metadata": {
    "ExecuteTime": {
     "end_time": "2019-04-17T05:04:53.046652Z",
     "start_time": "2019-04-17T05:04:53.032651Z"
    }
   },
   "source": [
    "## 評価値"
   ]
  },
  {
   "cell_type": "code",
   "execution_count": 21,
   "metadata": {
    "ExecuteTime": {
     "end_time": "2019-05-04T03:13:05.471659Z",
     "start_time": "2019-05-04T03:13:05.427660Z"
    },
    "scrolled": false
   },
   "outputs": [
    {
     "data": {
      "text/html": [
       "<div>\n",
       "<style scoped>\n",
       "    .dataframe tbody tr th:only-of-type {\n",
       "        vertical-align: middle;\n",
       "    }\n",
       "\n",
       "    .dataframe tbody tr th {\n",
       "        vertical-align: top;\n",
       "    }\n",
       "\n",
       "    .dataframe thead th {\n",
       "        text-align: right;\n",
       "    }\n",
       "</style>\n",
       "<table border=\"1\" class=\"dataframe\">\n",
       "  <thead>\n",
       "    <tr style=\"text-align: right;\">\n",
       "      <th></th>\n",
       "      <th>model_name</th>\n",
       "      <th>Hold-out</th>\n",
       "      <th>Non-nested CV</th>\n",
       "      <th>Nested CV</th>\n",
       "      <th>Hold-out_best</th>\n",
       "      <th>Non-nested CV_best</th>\n",
       "    </tr>\n",
       "  </thead>\n",
       "  <tbody>\n",
       "    <tr>\n",
       "      <th>0</th>\n",
       "      <td>r</td>\n",
       "      <td>2.5995</td>\n",
       "      <td>3.033402</td>\n",
       "      <td>3.007362</td>\n",
       "      <td>2.674513</td>\n",
       "      <td>3.160026</td>\n",
       "    </tr>\n",
       "  </tbody>\n",
       "</table>\n",
       "</div>"
      ],
      "text/plain": [
       "  model_name  Hold-out  Non-nested CV  Nested CV  Hold-out_best  \\\n",
       "0          r    2.5995       3.033402   3.007362       2.674513   \n",
       "\n",
       "   Non-nested CV_best  \n",
       "0            3.160026  "
      ]
     },
     "execution_count": 21,
     "metadata": {},
     "output_type": "execute_result"
    }
   ],
   "source": [
    "ret"
   ]
  },
  {
   "cell_type": "markdown",
   "metadata": {
    "ExecuteTime": {
     "end_time": "2019-04-17T05:05:02.999648Z",
     "start_time": "2019-04-17T05:05:02.979646Z"
    }
   },
   "source": [
    "### 残差"
   ]
  },
  {
   "cell_type": "code",
   "execution_count": 22,
   "metadata": {
    "ExecuteTime": {
     "end_time": "2019-05-04T03:13:07.205703Z",
     "start_time": "2019-05-04T03:13:05.482660Z"
    }
   },
   "outputs": [
    {
     "data": {
      "image/png": "[encoded data removed]",
      "text/plain": [
       "<Figure size 1512x360 with 3 Axes>"
      ]
     },
     "metadata": {},
     "output_type": "display_data"
    }
   ],
   "source": [
    "plot_residuals(y_train_pred, y_test_pred)"
   ]
  },
  {
   "cell_type": "code",
   "execution_count": 23,
   "metadata": {
    "ExecuteTime": {
     "end_time": "2019-05-04T03:13:08.545676Z",
     "start_time": "2019-05-04T03:13:07.205703Z"
    }
   },
   "outputs": [
    {
     "data": {
      "image/png": "[encoded data removed]",
      "text/plain": [
       "<Figure size 1512x360 with 3 Axes>"
      ]
     },
     "metadata": {},
     "output_type": "display_data"
    }
   ],
   "source": [
    "plot_residuals(best_y_train_pred, best_y_test_pred)"
   ]
  },
  {
   "cell_type": "markdown",
   "metadata": {},
   "source": [
    "- 用語\n",
    "    - 00データ = 欠損値除去\n",
    "    - 01データ = 外れ値除去\n",
    "\n",
    "- 全般\n",
    "    - 訓練時、テスト時ともに、実際よりも大きく少なく予想してしまうことがある\n",
    "\n",
    "- 00データ\n",
    "    - 全般\n",
    "        - 正規分布的\n",
    "    - 訓練時\n",
    "        - 大きな値（低燃費）ほど控え目な予想をしてはずす\n",
    "    - テスト時\n",
    "        - 低残差の件数が減っている\n",
    "        - 大きな値（低燃費）ほど控え目な予想をしてはずす\n",
    "        - 小さな値（高燃費）ほど強気　な予想をしてはずす"
   ]
  },
  {
   "cell_type": "markdown",
   "metadata": {},
   "source": [
    "### レコードチェック"
   ]
  },
  {
   "cell_type": "code",
   "execution_count": 24,
   "metadata": {
    "ExecuteTime": {
     "end_time": "2019-05-04T03:13:08.638473Z",
     "start_time": "2019-05-04T03:13:08.545676Z"
    }
   },
   "outputs": [
    {
     "data": {
      "text/html": [
       "<div>\n",
       "<style scoped>\n",
       "    .dataframe tbody tr th:only-of-type {\n",
       "        vertical-align: middle;\n",
       "    }\n",
       "\n",
       "    .dataframe tbody tr th {\n",
       "        vertical-align: top;\n",
       "    }\n",
       "\n",
       "    .dataframe thead th {\n",
       "        text-align: right;\n",
       "    }\n",
       "</style>\n",
       "<table border=\"1\" class=\"dataframe\">\n",
       "  <thead>\n",
       "    <tr style=\"text-align: right;\">\n",
       "      <th></th>\n",
       "      <th>cylinders</th>\n",
       "      <th>displacement</th>\n",
       "      <th>horsepower</th>\n",
       "      <th>weight</th>\n",
       "      <th>acceleration</th>\n",
       "      <th>model year</th>\n",
       "      <th>origin</th>\n",
       "      <th>pred</th>\n",
       "      <th>mpg</th>\n",
       "      <th>residuals</th>\n",
       "    </tr>\n",
       "  </thead>\n",
       "  <tbody>\n",
       "    <tr>\n",
       "      <th>92</th>\n",
       "      <td>6</td>\n",
       "      <td>200.0</td>\n",
       "      <td>85.0</td>\n",
       "      <td>3070.0</td>\n",
       "      <td>16.7</td>\n",
       "      <td>78</td>\n",
       "      <td>1</td>\n",
       "      <td>21.728892</td>\n",
       "      <td>20.8</td>\n",
       "      <td>-0.928892</td>\n",
       "    </tr>\n",
       "    <tr>\n",
       "      <th>185</th>\n",
       "      <td>4</td>\n",
       "      <td>105.0</td>\n",
       "      <td>74.0</td>\n",
       "      <td>1980.0</td>\n",
       "      <td>15.3</td>\n",
       "      <td>82</td>\n",
       "      <td>2</td>\n",
       "      <td>34.183444</td>\n",
       "      <td>36.0</td>\n",
       "      <td>1.816556</td>\n",
       "    </tr>\n",
       "    <tr>\n",
       "      <th>24</th>\n",
       "      <td>6</td>\n",
       "      <td>200.0</td>\n",
       "      <td>85.0</td>\n",
       "      <td>2990.0</td>\n",
       "      <td>18.2</td>\n",
       "      <td>79</td>\n",
       "      <td>1</td>\n",
       "      <td>22.410619</td>\n",
       "      <td>19.8</td>\n",
       "      <td>-2.610619</td>\n",
       "    </tr>\n",
       "    <tr>\n",
       "      <th>30</th>\n",
       "      <td>6</td>\n",
       "      <td>250.0</td>\n",
       "      <td>100.0</td>\n",
       "      <td>3781.0</td>\n",
       "      <td>17.0</td>\n",
       "      <td>74</td>\n",
       "      <td>1</td>\n",
       "      <td>16.418511</td>\n",
       "      <td>16.0</td>\n",
       "      <td>-0.418511</td>\n",
       "    </tr>\n",
       "    <tr>\n",
       "      <th>109</th>\n",
       "      <td>4</td>\n",
       "      <td>97.0</td>\n",
       "      <td>78.0</td>\n",
       "      <td>2300.0</td>\n",
       "      <td>14.5</td>\n",
       "      <td>74</td>\n",
       "      <td>2</td>\n",
       "      <td>25.913075</td>\n",
       "      <td>26.0</td>\n",
       "      <td>0.086925</td>\n",
       "    </tr>\n",
       "  </tbody>\n",
       "</table>\n",
       "</div>"
      ],
      "text/plain": [
       "     cylinders  displacement  horsepower  weight  acceleration  model year  \\\n",
       "92           6         200.0        85.0  3070.0          16.7          78   \n",
       "185          4         105.0        74.0  1980.0          15.3          82   \n",
       "24           6         200.0        85.0  2990.0          18.2          79   \n",
       "30           6         250.0       100.0  3781.0          17.0          74   \n",
       "109          4          97.0        78.0  2300.0          14.5          74   \n",
       "\n",
       "     origin       pred   mpg  residuals  \n",
       "92        1  21.728892  20.8  -0.928892  \n",
       "185       2  34.183444  36.0   1.816556  \n",
       "24        1  22.410619  19.8  -2.610619  \n",
       "30        1  16.418511  16.0  -0.418511  \n",
       "109       2  25.913075  26.0   0.086925  "
      ]
     },
     "execution_count": 24,
     "metadata": {},
     "output_type": "execute_result"
    }
   ],
   "source": [
    "X_train_ret = X_train.copy()\n",
    "X_train_ret['pred'] = best_y_train_pred\n",
    "X_train_ret['mpg'] = y_train\n",
    "X_train_ret['residuals'] = X_train_ret.mpg - X_train_ret.pred\n",
    "X_train_ret.head()"
   ]
  },
  {
   "cell_type": "code",
   "execution_count": 25,
   "metadata": {
    "ExecuteTime": {
     "end_time": "2019-05-04T03:13:08.702077Z",
     "start_time": "2019-05-04T03:13:08.649481Z"
    }
   },
   "outputs": [
    {
     "data": {
      "text/html": [
       "<div>\n",
       "<style scoped>\n",
       "    .dataframe tbody tr th:only-of-type {\n",
       "        vertical-align: middle;\n",
       "    }\n",
       "\n",
       "    .dataframe tbody tr th {\n",
       "        vertical-align: top;\n",
       "    }\n",
       "\n",
       "    .dataframe thead th {\n",
       "        text-align: right;\n",
       "    }\n",
       "</style>\n",
       "<table border=\"1\" class=\"dataframe\">\n",
       "  <thead>\n",
       "    <tr style=\"text-align: right;\">\n",
       "      <th></th>\n",
       "      <th>cylinders</th>\n",
       "      <th>displacement</th>\n",
       "      <th>horsepower</th>\n",
       "      <th>weight</th>\n",
       "      <th>acceleration</th>\n",
       "      <th>model year</th>\n",
       "      <th>origin</th>\n",
       "      <th>pred</th>\n",
       "      <th>mpg</th>\n",
       "      <th>residuals</th>\n",
       "    </tr>\n",
       "  </thead>\n",
       "  <tbody>\n",
       "    <tr>\n",
       "      <th>83</th>\n",
       "      <td>8</td>\n",
       "      <td>383.0</td>\n",
       "      <td>170.0</td>\n",
       "      <td>3563.0</td>\n",
       "      <td>10.0</td>\n",
       "      <td>70</td>\n",
       "      <td>1</td>\n",
       "      <td>18.600235</td>\n",
       "      <td>15.0</td>\n",
       "      <td>-3.600235</td>\n",
       "    </tr>\n",
       "    <tr>\n",
       "      <th>12</th>\n",
       "      <td>4</td>\n",
       "      <td>97.0</td>\n",
       "      <td>88.0</td>\n",
       "      <td>2130.0</td>\n",
       "      <td>14.5</td>\n",
       "      <td>70</td>\n",
       "      <td>3</td>\n",
       "      <td>26.653177</td>\n",
       "      <td>27.0</td>\n",
       "      <td>0.346823</td>\n",
       "    </tr>\n",
       "    <tr>\n",
       "      <th>33</th>\n",
       "      <td>4</td>\n",
       "      <td>121.0</td>\n",
       "      <td>110.0</td>\n",
       "      <td>2660.0</td>\n",
       "      <td>14.0</td>\n",
       "      <td>73</td>\n",
       "      <td>2</td>\n",
       "      <td>23.036709</td>\n",
       "      <td>24.0</td>\n",
       "      <td>0.963291</td>\n",
       "    </tr>\n",
       "    <tr>\n",
       "      <th>113</th>\n",
       "      <td>4</td>\n",
       "      <td>146.0</td>\n",
       "      <td>67.0</td>\n",
       "      <td>3250.0</td>\n",
       "      <td>21.8</td>\n",
       "      <td>80</td>\n",
       "      <td>2</td>\n",
       "      <td>30.375816</td>\n",
       "      <td>30.0</td>\n",
       "      <td>-0.375816</td>\n",
       "    </tr>\n",
       "    <tr>\n",
       "      <th>171</th>\n",
       "      <td>8</td>\n",
       "      <td>390.0</td>\n",
       "      <td>190.0</td>\n",
       "      <td>3850.0</td>\n",
       "      <td>8.5</td>\n",
       "      <td>70</td>\n",
       "      <td>1</td>\n",
       "      <td>15.811343</td>\n",
       "      <td>15.0</td>\n",
       "      <td>-0.811343</td>\n",
       "    </tr>\n",
       "  </tbody>\n",
       "</table>\n",
       "</div>"
      ],
      "text/plain": [
       "     cylinders  displacement  horsepower  weight  acceleration  model year  \\\n",
       "83           8         383.0       170.0  3563.0          10.0          70   \n",
       "12           4          97.0        88.0  2130.0          14.5          70   \n",
       "33           4         121.0       110.0  2660.0          14.0          73   \n",
       "113          4         146.0        67.0  3250.0          21.8          80   \n",
       "171          8         390.0       190.0  3850.0           8.5          70   \n",
       "\n",
       "     origin       pred   mpg  residuals  \n",
       "83        1  18.600235  15.0  -3.600235  \n",
       "12        3  26.653177  27.0   0.346823  \n",
       "33        2  23.036709  24.0   0.963291  \n",
       "113       2  30.375816  30.0  -0.375816  \n",
       "171       1  15.811343  15.0  -0.811343  "
      ]
     },
     "execution_count": 25,
     "metadata": {},
     "output_type": "execute_result"
    }
   ],
   "source": [
    "X_test_ret = X_test.copy()\n",
    "X_test_ret['pred'] = best_y_test_pred\n",
    "X_test_ret['mpg'] = y_test\n",
    "X_test_ret['residuals'] = X_test_ret.mpg - X_test_ret.pred\n",
    "X_test_ret.head()"
   ]
  },
  {
   "cell_type": "markdown",
   "metadata": {},
   "source": [
    "# 退避"
   ]
  },
  {
   "cell_type": "markdown",
   "metadata": {},
   "source": [
    "## 精度平均"
   ]
  },
  {
   "cell_type": "code",
   "execution_count": 26,
   "metadata": {
    "ExecuteTime": {
     "end_time": "2019-05-04T03:13:08.733316Z",
     "start_time": "2019-05-04T03:13:08.702077Z"
    }
   },
   "outputs": [],
   "source": [
    "results = pd.DataFrame(columns=[\"model_name\", \"Hold-out\", \"Non-nested CV\", \"Nested CV\", \"Hold-out_best\", \"Non-nested CV_best\"])"
   ]
  },
  {
   "cell_type": "code",
   "execution_count": 27,
   "metadata": {
    "ExecuteTime": {
     "end_time": "2019-05-04T03:22:51.734674Z",
     "start_time": "2019-05-04T03:13:08.733316Z"
    }
   },
   "outputs": [
    {
     "data": {
      "text/html": [
       "<div>\n",
       "<style scoped>\n",
       "    .dataframe tbody tr th:only-of-type {\n",
       "        vertical-align: middle;\n",
       "    }\n",
       "\n",
       "    .dataframe tbody tr th {\n",
       "        vertical-align: top;\n",
       "    }\n",
       "\n",
       "    .dataframe thead th {\n",
       "        text-align: right;\n",
       "    }\n",
       "</style>\n",
       "<table border=\"1\" class=\"dataframe\">\n",
       "  <thead>\n",
       "    <tr style=\"text-align: right;\">\n",
       "      <th></th>\n",
       "      <th>model_name</th>\n",
       "      <th>Hold-out</th>\n",
       "      <th>Non-nested CV</th>\n",
       "      <th>Nested CV</th>\n",
       "      <th>Hold-out_best</th>\n",
       "      <th>Non-nested CV_best</th>\n",
       "    </tr>\n",
       "  </thead>\n",
       "  <tbody>\n",
       "    <tr>\n",
       "      <th>0</th>\n",
       "      <td>r</td>\n",
       "      <td>2.5995</td>\n",
       "      <td>2.983978</td>\n",
       "      <td>3.160588</td>\n",
       "      <td>2.525499</td>\n",
       "      <td>3.068194</td>\n",
       "    </tr>\n",
       "    <tr>\n",
       "      <th>0</th>\n",
       "      <td>r</td>\n",
       "      <td>2.5995</td>\n",
       "      <td>3.161231</td>\n",
       "      <td>3.087052</td>\n",
       "      <td>2.635523</td>\n",
       "      <td>3.119652</td>\n",
       "    </tr>\n",
       "    <tr>\n",
       "      <th>0</th>\n",
       "      <td>r</td>\n",
       "      <td>2.5995</td>\n",
       "      <td>3.120157</td>\n",
       "      <td>3.188327</td>\n",
       "      <td>2.510359</td>\n",
       "      <td>3.026242</td>\n",
       "    </tr>\n",
       "    <tr>\n",
       "      <th>0</th>\n",
       "      <td>r</td>\n",
       "      <td>2.5995</td>\n",
       "      <td>3.048596</td>\n",
       "      <td>3.131247</td>\n",
       "      <td>2.525499</td>\n",
       "      <td>2.977595</td>\n",
       "    </tr>\n",
       "    <tr>\n",
       "      <th>0</th>\n",
       "      <td>r</td>\n",
       "      <td>2.5995</td>\n",
       "      <td>3.172050</td>\n",
       "      <td>3.158007</td>\n",
       "      <td>2.635523</td>\n",
       "      <td>3.085934</td>\n",
       "    </tr>\n",
       "  </tbody>\n",
       "</table>\n",
       "</div>"
      ],
      "text/plain": [
       "  model_name  Hold-out  Non-nested CV  Nested CV  Hold-out_best  \\\n",
       "0          r    2.5995       2.983978   3.160588       2.525499   \n",
       "0          r    2.5995       3.161231   3.087052       2.635523   \n",
       "0          r    2.5995       3.120157   3.188327       2.510359   \n",
       "0          r    2.5995       3.048596   3.131247       2.525499   \n",
       "0          r    2.5995       3.172050   3.158007       2.635523   \n",
       "\n",
       "   Non-nested CV_best  \n",
       "0            3.068194  \n",
       "0            3.119652  \n",
       "0            3.026242  \n",
       "0            2.977595  \n",
       "0            3.085934  "
      ]
     },
     "execution_count": 27,
     "metadata": {},
     "output_type": "execute_result"
    }
   ],
   "source": [
    "# ループで何度か実行し、スコアの推移を確認\n",
    "for i in range(0, 5):\n",
    "    (ret, y_train_pred, y_test_pred, best_y_train_pred, best_y_test_pred) = predict(rf_model, rf_model_cv, \"r\")\n",
    "    results = results.append(ret)\n",
    "results"
   ]
  },
  {
   "cell_type": "code",
   "execution_count": 28,
   "metadata": {
    "ExecuteTime": {
     "end_time": "2019-05-04T03:22:51.787701Z",
     "start_time": "2019-05-04T03:22:51.734674Z"
    }
   },
   "outputs": [
    {
     "data": {
      "text/plain": [
       "Hold-out              2.599500\n",
       "Non-nested CV         3.097202\n",
       "Nested CV             3.145044\n",
       "Hold-out_best         2.566481\n",
       "Non-nested CV_best    3.055523\n",
       "dtype: float64"
      ]
     },
     "execution_count": 28,
     "metadata": {},
     "output_type": "execute_result"
    }
   ],
   "source": [
    "results.mean()"
   ]
  },
  {
   "cell_type": "markdown",
   "metadata": {},
   "source": [
    "# 考察"
   ]
  },
  {
   "cell_type": "markdown",
   "metadata": {},
   "source": [
    "## 比較対象として、4/14時点のランキングデータ"
   ]
  },
  {
   "cell_type": "markdown",
   "metadata": {},
   "source": [
    "\n",
    "- 投稿：1555件\n",
    "- 参加：428人\n",
    "- スコア\n",
    "  - 1位：2.35474 (2019-02-15 21:49:02)\n",
    "  - 5位：2.51207 (2019-02-01 18:48:02)\n",
    "  - 6位：2.57726 (2019-02-01 00:39:02)\n",
    "  - 10位：2.63501 (2019-03-04 02:03:02)\n",
    "  - 40位：2.77689 (2018-08-23 17:26:02)\n",
    "  - 100位：3.15333 (2018-10-05 00:21:02)"
   ]
  },
  {
   "cell_type": "markdown",
   "metadata": {},
   "source": [
    "## とりあえずRF実施段階"
   ]
  },
  {
   "cell_type": "markdown",
   "metadata": {},
   "source": [
    "- スコアが 3.109519 なので、工夫ナシで100位以下"
   ]
  },
  {
   "cell_type": "markdown",
   "metadata": {},
   "source": [
    "## 方針"
   ]
  },
  {
   "cell_type": "markdown",
   "metadata": {},
   "source": [
    "集計結果から、予測困難と思われるケース等を見つけ排除し、再度予想する"
   ]
  }
 ],
 "metadata": {
  "kernelspec": {
   "display_name": "Python 3",
   "language": "python",
   "name": "python3"
  },
  "language_info": {
   "codemirror_mode": {
    "name": "ipython",
    "version": 3
   },
   "file_extension": ".py",
   "mimetype": "text/x-python",
   "name": "python",
   "nbconvert_exporter": "python",
   "pygments_lexer": "ipython3",
   "version": "3.6.5"
  },
  "toc": {
   "base_numbering": 1,
   "nav_menu": {},
   "number_sections": true,
   "sideBar": true,
   "skip_h1_title": false,
   "title_cell": "Table of Contents",
   "title_sidebar": "Contents",
   "toc_cell": false,
   "toc_position": {
    "height": "calc(100% - 180px)",
    "left": "10px",
    "top": "150px",
    "width": "263px"
   },
   "toc_section_display": true,
   "toc_window_display": true
  }
 },
 "nbformat": 4,
 "nbformat_minor": 2
}
